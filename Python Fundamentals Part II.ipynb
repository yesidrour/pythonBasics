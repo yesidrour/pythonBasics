{
 "cells": [
  {
   "cell_type": "markdown",
   "metadata": {},
   "source": [
    "# Python Fundamentals Part II"
   ]
  },
  {
   "cell_type": "markdown",
   "metadata": {
    "colab_type": "text",
    "id": "Ath2U-5gChXX"
   },
   "source": [
    "## Control structures"
   ]
  },
  {
   "cell_type": "markdown",
   "metadata": {
    "colab_type": "text",
    "id": "HiYG9LosZZJ4"
   },
   "source": [
    "### `if` statements\n",
    "\n",
    "`if` statements allow your program to take different paths depending on the run-time conditions. They generally come in `if...elif...else` blocks. The program will check each written condition in sequence and once one of them is true, will execute the code block associated with that condition:\n",
    "\n",
    "```python\n",
    "if condition1:\n",
    "   block1\n",
    "elif condition2:\n",
    "   block2\n",
    "else:\n",
    "   block3\n",
    "```\n",
    "\n",
    "Thus, if `condition1` were true, then `block1` would be executed. If it were false but `condition2` were true, then `block2` would be executed. Else, if both of the first two conditions were false, then `block3` would be executed."
   ]
  },
  {
   "cell_type": "markdown",
   "metadata": {
    "colab_type": "text",
    "id": "ChxNNAw8Ca5f"
   },
   "source": [
    "### Exercise 1:\n",
    "\n",
    "What is the output if the following Python code is executed? Why?\n",
    "\n",
    "```python\n",
    "area = 10.0\n",
    "if(area < 9) :\n",
    "    print(\"small\")\n",
    "elif(area < 12) :\n",
    "    print(\"medium\")\n",
    "else :\n",
    "    print(\"large\")\n",
    "````\n",
    "\n",
    "a. small\n",
    "\n",
    "b. medium\n",
    "\n",
    "c. large\n",
    "\n",
    "d. Syntax error"
   ]
  },
  {
   "cell_type": "code",
   "execution_count": 1,
   "metadata": {
    "colab": {},
    "colab_type": "code",
    "id": "4Renzlf5rrYP"
   },
   "outputs": [
    {
     "name": "stdout",
     "output_type": "stream",
     "text": [
      "looking around in the bedroom.\n",
      "medium size, nice!\n"
     ]
    }
   ],
   "source": [
    "# Define variables\n",
    "room = \"bed\"\n",
    "size = 180.0\n",
    "\n",
    "# if-elif-else construct for room\n",
    "if room == \"bed\" :\n",
    "    print(\"looking around in the bedroom.\")\n",
    "elif room == \"kit\" :\n",
    "    print(\"looking around in the kitchen.\")\n",
    "else :\n",
    "    print(\"looking around elsewhere.\")\n",
    "\n",
    "# if statement for area\n",
    "if size > 180 :\n",
    "  print(\"big place!\")\n",
    "elif size > 100 :\n",
    "    print(\"medium size, nice!\")\n",
    "else: \n",
    "    print(\"pretty small.\")"
   ]
  },
  {
   "cell_type": "markdown",
   "metadata": {
    "colab_type": "text",
    "id": "mT4OXWlDM_cC"
   },
   "source": [
    "### Exercise 2:\n",
    "\n",
    "Given an integer $n$, write code that does the following:\n",
    "\n",
    "1. If $n$ is odd, print 'Strange'\n",
    "2. If $n$ is even and is in the range inclusive of 2 to 5, print 'No Strange'\n",
    "3. If $n$ is even and is in the range inclusive of 6 to 20, print 'Strange'\n",
    "4. If $n$ is even and is larger than 20, print 'No Stranger'\n",
    "\n",
    "**Examples:**\n",
    "$n = 3$, $n$ is odd and odd numbers are of type 'Strange', so it should print 'Strange'.\n",
    "\n",
    "$n = 24$, $n$ is even and is greater than 20, even numbers greater than 20 are of type 'Not Strange', so it should print 'Not Strange'."
   ]
  },
  {
   "cell_type": "code",
   "execution_count": 2,
   "metadata": {
    "colab": {},
    "colab_type": "code",
    "id": "Ut_f2X0cPh9F"
   },
   "outputs": [],
   "source": [
    "# Your code ..."
   ]
  },
  {
   "cell_type": "markdown",
   "metadata": {
    "colab_type": "text",
    "id": "u9wCsKUL7lnC"
   },
   "source": [
    "### `while` loops\n",
    "\n",
    "The `while` loop is executed as long as the given condition is true. If the condition is false even at the beginning, then the `while` block is not executed and the code immediately proceeds to the code following the block. By convention, in Python any nonzero integer value counts as true and 0 is false. The condition can also be a list or any sequence, where the empty sequence means false. The body of the loop must be indented:\n",
    "\n",
    "```python\n",
    "while condition:\n",
    "   block\n",
    "```"
   ]
  },
  {
   "cell_type": "markdown",
   "metadata": {
    "colab_type": "text",
    "id": "nHpYr3xiCrPP"
   },
   "source": [
    "### Exercise 3:\n",
    "\n",
    "How many prints will this `while` loop make?\n",
    "\n",
    "```python\n",
    "x = 1\n",
    "while x < 4 :\n",
    "    print(x)\n",
    "    x = x + 1\n",
    "```\n",
    "\n",
    "a. 0\n",
    "\n",
    "b. 1\n",
    "\n",
    "c. 2\n",
    "\n",
    "d. 3"
   ]
  },
  {
   "cell_type": "code",
   "execution_count": 2,
   "metadata": {},
   "outputs": [
    {
     "name": "stdout",
     "output_type": "stream",
     "text": [
      "Infinite Cycle\n"
     ]
    }
   ],
   "source": [
    "#while True:\n",
    "  print(\"Infinite Cycle\")"
   ]
  },
  {
   "cell_type": "code",
   "execution_count": 3,
   "metadata": {
    "colab": {},
    "colab_type": "code",
    "id": "UAGONT6fEDnT"
   },
   "outputs": [
    {
     "name": "stdout",
     "output_type": "stream",
     "text": [
      "correcting...\n",
      "7\n",
      "correcting...\n",
      "6\n",
      "correcting...\n",
      "5\n",
      "correcting...\n",
      "4\n",
      "correcting...\n",
      "3\n",
      "correcting...\n",
      "2\n",
      "correcting...\n",
      "1\n",
      "correcting...\n",
      "0\n"
     ]
    }
   ],
   "source": [
    "# Initialize offset\n",
    "offset = 8\n",
    "\n",
    "# Code the while loop\n",
    "while offset != 0:\n",
    "    print(\"correcting...\")\n",
    "    offset = offset - 1 # You can use too: offset -= 1  \n",
    "    print(offset)"
   ]
  },
  {
   "cell_type": "code",
   "execution_count": 4,
   "metadata": {
    "colab": {
     "base_uri": "https://localhost:8080/",
     "height": 102
    },
    "colab_type": "code",
    "executionInfo": {
     "elapsed": 677,
     "status": "ok",
     "timestamp": 1591057862401,
     "user": {
      "displayName": "Ana Lopez",
      "photoUrl": "https://lh3.googleusercontent.com/a-/AOh14Gj1dkF5QHwdzo0ygY_LrTIzktyfsXlogjzGema4=s64",
      "userId": "15130352723004509221"
     },
     "user_tz": 300
    },
    "id": "WjVii7mOBtBE",
    "outputId": "6c077ea9-eedd-48ed-e10b-ddc613786138"
   },
   "outputs": [
    {
     "name": "stdout",
     "output_type": "stream",
     "text": [
      "a\n",
      "e\n",
      "i\n",
      "o\n",
      "u\n"
     ]
    }
   ],
   "source": [
    "# Iterate lists\n",
    "list1 = ['a','e','i','o','u']\n",
    "while list1:\n",
    "  print(list1.pop(0))"
   ]
  },
  {
   "cell_type": "code",
   "execution_count": 5,
   "metadata": {
    "colab": {},
    "colab_type": "code",
    "id": "7A_z2TBiiCdh"
   },
   "outputs": [
    {
     "name": "stdout",
     "output_type": "stream",
     "text": [
      "z = 3\n",
      "z = 10\n",
      "z = 5\n",
      "z = 16\n",
      "z = 8\n",
      "z = 4\n",
      "z = 2\n"
     ]
    }
   ],
   "source": [
    "z = 3\n",
    "\n",
    "while z !=  1  :  # any boolean condition could be placed here. Also, notice the : at the end!\n",
    "    print( f\"z = {z}\" )\n",
    "    if z % 2 == 0 : # if z is even, divide by 2\n",
    "        z = z // 2 \n",
    "    else : \n",
    "        z = 3 * z + 1 # if z is odd, multiply by 3 add 1"
   ]
  },
  {
   "cell_type": "markdown",
   "metadata": {
    "colab_type": "text",
    "id": "YF_Wp9tT7jmp"
   },
   "source": [
    "### `for` loops\n",
    "\n",
    "The `for` loop executes a block $n$ times, for each number in the range 0 to $n - 1$. However, this is only the most basic use of a `for` loop. Python allows you to iterate not only over ranges, but also over the elements of a sequence (be it a list or a chain) in the order in which they appear:\n",
    "\n",
    "```python\n",
    "for idx in range (0, n):\n",
    "   block\n",
    "\n",
    "for elem in list:\n",
    "   block\n",
    "```\n",
    "\n",
    "The use of the `for` loop to iterate over the list only gives access to all the elements of the list. If you also want to access the index information, you can use the `enumerate()` method:\n",
    "\n",
    "```python\n",
    "for index, element in enumerate(list):\n",
    "   print (\"Index\" + str(index) + \":\" + str(element)\n",
    "```"
   ]
  },
  {
   "cell_type": "markdown",
   "metadata": {
    "colab_type": "text",
    "id": "j3gPFScbQzyI"
   },
   "source": [
    "#### `for` on lists"
   ]
  },
  {
   "cell_type": "code",
   "execution_count": 6,
   "metadata": {
    "colab": {
     "base_uri": "https://localhost:8080/",
     "height": 102
    },
    "colab_type": "code",
    "executionInfo": {
     "elapsed": 676,
     "status": "ok",
     "timestamp": 1591057955039,
     "user": {
      "displayName": "Ana Lopez",
      "photoUrl": "https://lh3.googleusercontent.com/a-/AOh14Gj1dkF5QHwdzo0ygY_LrTIzktyfsXlogjzGema4=s64",
      "userId": "15130352723004509221"
     },
     "user_tz": 300
    },
    "id": "6vMm9zK7L2cN",
    "outputId": "fa9108e1-0aea-44cb-e8b5-6dd0187474ca"
   },
   "outputs": [
    {
     "name": "stdout",
     "output_type": "stream",
     "text": [
      "room0:11.25\n",
      "room1:18.0\n",
      "room2:20.0\n",
      "room3:10.75\n",
      "room4:9.5\n"
     ]
    }
   ],
   "source": [
    "# areas list\n",
    "areas = [11.25, 18.0, 20.0, 10.75, 9.50]\n",
    "\n",
    "# for loop using enumerate()\n",
    "for idx,a in enumerate(areas) :\n",
    "    print(\"room\" + str(idx) + \":\" + str(a))"
   ]
  },
  {
   "cell_type": "code",
   "execution_count": 7,
   "metadata": {
    "colab": {
     "base_uri": "https://localhost:8080/",
     "height": 102
    },
    "colab_type": "code",
    "executionInfo": {
     "elapsed": 720,
     "status": "ok",
     "timestamp": 1591057977524,
     "user": {
      "displayName": "Ana Lopez",
      "photoUrl": "https://lh3.googleusercontent.com/a-/AOh14Gj1dkF5QHwdzo0ygY_LrTIzktyfsXlogjzGema4=s64",
      "userId": "15130352723004509221"
     },
     "user_tz": 300
    },
    "id": "WfXGkaHrPy34",
    "outputId": "5db6505f-2961-49df-b104-2782f72aac1a"
   },
   "outputs": [
    {
     "name": "stdout",
     "output_type": "stream",
     "text": [
      "the hallway is 11.25sqm\n",
      "the kitchen is 18.0sqm\n",
      "the living room is 20.0sqm\n",
      "the bedroom is 10.75sqm\n",
      "the bathroom is 9.5sqm\n"
     ]
    }
   ],
   "source": [
    "# house list of lists\n",
    "house = [[\"hallway\", 11.25], \n",
    "         [\"kitchen\", 18.0], \n",
    "         [\"living room\", 20.0], \n",
    "         [\"bedroom\", 10.75], \n",
    "         [\"bathroom\", 9.50]]\n",
    "# For structure\n",
    "for elem in house:\n",
    "    print(\"the \"+str(elem[0]) + \" is \"+ str(elem[1]) + \"sqm\")"
   ]
  },
  {
   "cell_type": "markdown",
   "metadata": {
    "colab_type": "text",
    "id": "DrALR41gQ7hH"
   },
   "source": [
    "#### `for` on dictionaries"
   ]
  },
  {
   "cell_type": "code",
   "execution_count": 8,
   "metadata": {
    "colab": {
     "base_uri": "https://localhost:8080/",
     "height": 136
    },
    "colab_type": "code",
    "executionInfo": {
     "elapsed": 677,
     "status": "ok",
     "timestamp": 1591058016556,
     "user": {
      "displayName": "Ana Lopez",
      "photoUrl": "https://lh3.googleusercontent.com/a-/AOh14Gj1dkF5QHwdzo0ygY_LrTIzktyfsXlogjzGema4=s64",
      "userId": "15130352723004509221"
     },
     "user_tz": 300
    },
    "id": "e_D7OgndQ_Jr",
    "outputId": "c38d430d-1793-4765-bfa4-30782d42ffde"
   },
   "outputs": [
    {
     "name": "stdout",
     "output_type": "stream",
     "text": [
      "the capital of spain is madrid\n",
      "the capital of france is paris\n",
      "the capital of germany is berlin\n",
      "the capital of norway is oslo\n",
      "the capital of italy is rome\n",
      "the capital of poland is warsaw\n",
      "the capital of austria is vienna\n"
     ]
    }
   ],
   "source": [
    "# Definition of dictionary\n",
    "europe = {'spain':'madrid', 'france':'paris', 'germany':'berlin',\n",
    "          'norway':'oslo', 'italy':'rome', 'poland':'warsaw', 'austria':'vienna' }\n",
    "          \n",
    "# Iterate over europe\n",
    "for key in europe:\n",
    "  print(\"the capital of \"+key+ \" is \"+europe[key]) "
   ]
  },
  {
   "cell_type": "code",
   "execution_count": 9,
   "metadata": {
    "colab": {
     "base_uri": "https://localhost:8080/",
     "height": 136
    },
    "colab_type": "code",
    "executionInfo": {
     "elapsed": 718,
     "status": "ok",
     "timestamp": 1591058039484,
     "user": {
      "displayName": "Ana Lopez",
      "photoUrl": "https://lh3.googleusercontent.com/a-/AOh14Gj1dkF5QHwdzo0ygY_LrTIzktyfsXlogjzGema4=s64",
      "userId": "15130352723004509221"
     },
     "user_tz": 300
    },
    "id": "TvVYhoEsWnEc",
    "outputId": "1df48d84-3f6f-4b87-92e3-444dfaf88238"
   },
   "outputs": [
    {
     "name": "stdout",
     "output_type": "stream",
     "text": [
      "the capital of spain is madrid\n",
      "the capital of france is paris\n",
      "the capital of germany is berlin\n",
      "the capital of norway is oslo\n",
      "the capital of italy is rome\n",
      "the capital of poland is warsaw\n",
      "the capital of austria is vienna\n"
     ]
    }
   ],
   "source": [
    "# Iterate over europe.items()\n",
    "for key, value in europe.items() :\n",
    "  print(\"the capital of \"+key+ \" is \"+value)"
   ]
  },
  {
   "cell_type": "code",
   "execution_count": 10,
   "metadata": {
    "colab": {
     "base_uri": "https://localhost:8080/",
     "height": 136
    },
    "colab_type": "code",
    "executionInfo": {
     "elapsed": 659,
     "status": "ok",
     "timestamp": 1591058062744,
     "user": {
      "displayName": "Ana Lopez",
      "photoUrl": "https://lh3.googleusercontent.com/a-/AOh14Gj1dkF5QHwdzo0ygY_LrTIzktyfsXlogjzGema4=s64",
      "userId": "15130352723004509221"
     },
     "user_tz": 300
    },
    "id": "91hP-_W0WnMZ",
    "outputId": "efd51f12-2233-4966-bb5b-1fb53935f437"
   },
   "outputs": [
    {
     "name": "stdout",
     "output_type": "stream",
     "text": [
      "the capital of spain is madrid\n",
      "the capital of france is paris\n",
      "the capital of germany is berlin\n",
      "the capital of norway is oslo\n",
      "the capital of italy is rome\n",
      "the capital of poland is warsaw\n",
      "the capital of austria is vienna\n"
     ]
    }
   ],
   "source": [
    "# Iterate over europe.keys()\n",
    "for key in europe.keys():\n",
    "  print(\"the capital of \"+key+ \" is \"+europe[key])"
   ]
  },
  {
   "cell_type": "code",
   "execution_count": 11,
   "metadata": {
    "colab": {
     "base_uri": "https://localhost:8080/",
     "height": 136
    },
    "colab_type": "code",
    "executionInfo": {
     "elapsed": 718,
     "status": "ok",
     "timestamp": 1591058073934,
     "user": {
      "displayName": "Ana Lopez",
      "photoUrl": "https://lh3.googleusercontent.com/a-/AOh14Gj1dkF5QHwdzo0ygY_LrTIzktyfsXlogjzGema4=s64",
      "userId": "15130352723004509221"
     },
     "user_tz": 300
    },
    "id": "tyI_hcEqWnW_",
    "outputId": "0fe13470-1387-4fc5-d156-f4f62838b8b0"
   },
   "outputs": [
    {
     "name": "stdout",
     "output_type": "stream",
     "text": [
      "the capitals is madrid\n",
      "the capitals is paris\n",
      "the capitals is berlin\n",
      "the capitals is oslo\n",
      "the capitals is rome\n",
      "the capitals is warsaw\n",
      "the capitals is vienna\n"
     ]
    }
   ],
   "source": [
    "# Iterate over europe.values()\n",
    "for value in europe.values() :\n",
    "  print(\"the capitals is \"+value) "
   ]
  },
  {
   "cell_type": "markdown",
   "metadata": {
    "colab_type": "text",
    "id": "xE02aKq5b8y-"
   },
   "source": [
    "### Exercise 4:\n",
    "\n",
    "Write a function that generates a dictionary where the keys are the numbers 1 through 15 (inclusive) and the values are the squares of those keys:\n",
    "\n",
    "Example:\n",
    "```python\n",
    "{\n",
    "  1 : 1,\n",
    "  2 : 4,\n",
    "  3 : 9,\n",
    "  ...\n",
    "}\n",
    "```"
   ]
  },
  {
   "cell_type": "code",
   "execution_count": 12,
   "metadata": {
    "colab": {},
    "colab_type": "code",
    "id": "CzHOkVQGco_h"
   },
   "outputs": [],
   "source": [
    "# Your code ..."
   ]
  },
  {
   "cell_type": "markdown",
   "metadata": {
    "colab_type": "text",
    "id": "12QDJu3enKog"
   },
   "source": [
    "## Loop control\n",
    "\n",
    "Sometimes, we want to be able to control the progress of a `for` or `while` loop beyond its default behavior. There are a few keywords that allow us to do this."
   ]
  },
  {
   "cell_type": "markdown",
   "metadata": {
    "colab_type": "text",
    "id": "c4t54cBbVZ8a"
   },
   "source": [
    "### `break`\n",
    "\n",
    "This keyword can be used in `for` and `while` loops. It simply ends the current loop and continues with the execution of the rest of the program:"
   ]
  },
  {
   "cell_type": "code",
   "execution_count": 13,
   "metadata": {
    "colab": {
     "base_uri": "https://localhost:8080/",
     "height": 68
    },
    "colab_type": "code",
    "executionInfo": {
     "elapsed": 698,
     "status": "ok",
     "timestamp": 1591058127231,
     "user": {
      "displayName": "Ana Lopez",
      "photoUrl": "https://lh3.googleusercontent.com/a-/AOh14Gj1dkF5QHwdzo0ygY_LrTIzktyfsXlogjzGema4=s64",
      "userId": "15130352723004509221"
     },
     "user_tz": 300
    },
    "id": "2PRJOnYfVoCQ",
    "outputId": "7fdb22b9-0dc3-4035-ad2c-5a7df82ce38e"
   },
   "outputs": [
    {
     "name": "stdout",
     "output_type": "stream",
     "text": [
      "char : P\n",
      "char : y\n",
      "char : t\n"
     ]
    }
   ],
   "source": [
    "# Break in FOR\n",
    "for char in \"Python\":\n",
    "    if char == \"h\":\n",
    "        break\n",
    "    print (\"char : \" + char)"
   ]
  },
  {
   "cell_type": "code",
   "execution_count": 14,
   "metadata": {
    "colab": {},
    "colab_type": "code",
    "id": "FnivC54iXUgl"
   },
   "outputs": [
    {
     "name": "stdout",
     "output_type": "stream",
     "text": [
      "i = 1\n",
      "i = 2\n",
      "i = 3\n",
      "i = 4\n",
      "i = 5\n",
      "i = 6\n",
      "i = 7\n",
      "Found 7, everybody's favorite number! No need to keep working!\n"
     ]
    }
   ],
   "source": [
    "# Break in FOR\n",
    "for i in range(1, 12) : \n",
    "    print( f\"i = {i}\" )\n",
    "    if i == 7 :  \n",
    "        print( \"Found 7, everybody's favorite number! No need to keep working!\")\n",
    "        break"
   ]
  },
  {
   "cell_type": "code",
   "execution_count": 15,
   "metadata": {
    "colab": {},
    "colab_type": "code",
    "id": "gVzuCMC8XU84"
   },
   "outputs": [
    {
     "name": "stdout",
     "output_type": "stream",
     "text": [
      "value : 9\n",
      "value : 8\n",
      "value : 7\n",
      "value : 6\n",
      "End Script\n"
     ]
    }
   ],
   "source": [
    "# Break in WHILE\n",
    "value = 10\n",
    "while value > 0:\n",
    "    value = value -1\n",
    "    if value == 5:\n",
    "        break\n",
    "    print (\"value : \" + str(value))\n",
    "\n",
    "print (\"End Script\")"
   ]
  },
  {
   "cell_type": "markdown",
   "metadata": {
    "colab_type": "text",
    "id": "ycArVMfTXgh6"
   },
   "source": [
    "### `continue`\n",
    "\n",
    "This tells the program to return to the beginning of the loop and start the next iteration, ignoring the remaining lines of code in the current iteration:"
   ]
  },
  {
   "cell_type": "code",
   "execution_count": 16,
   "metadata": {
    "colab": {
     "base_uri": "https://localhost:8080/",
     "height": 102
    },
    "colab_type": "code",
    "executionInfo": {
     "elapsed": 651,
     "status": "ok",
     "timestamp": 1591058147289,
     "user": {
      "displayName": "Ana Lopez",
      "photoUrl": "https://lh3.googleusercontent.com/a-/AOh14Gj1dkF5QHwdzo0ygY_LrTIzktyfsXlogjzGema4=s64",
      "userId": "15130352723004509221"
     },
     "user_tz": 300
    },
    "id": "RvLdr5TqXf3T",
    "outputId": "d6b2ea9a-bab1-45c3-83cd-538c464870a5"
   },
   "outputs": [
    {
     "name": "stdout",
     "output_type": "stream",
     "text": [
      "char : P\n",
      "char : y\n",
      "char : t\n",
      "char : o\n",
      "char : n\n"
     ]
    }
   ],
   "source": [
    "# Continue in FOR\n",
    "for char in \"Python\":\n",
    "    if char == \"h\":\n",
    "        continue\n",
    "    print (\"char : \" + char)"
   ]
  },
  {
   "cell_type": "code",
   "execution_count": 17,
   "metadata": {
    "colab": {},
    "colab_type": "code",
    "id": "fJUTbwQUXVAu"
   },
   "outputs": [
    {
     "name": "stdout",
     "output_type": "stream",
     "text": [
      "i = 1\n",
      "i = 2\n",
      "i = 3\n",
      "i = 4\n",
      "I don't like multiples of 5, skipping this one\n",
      "i = 6\n",
      "i = 7\n",
      "i = 8\n",
      "i = 9\n",
      "I don't like multiples of 5, skipping this one\n",
      "i = 11\n"
     ]
    }
   ],
   "source": [
    "# Continue in FOR\n",
    "for i in range(1, 12):      \n",
    "    if i % 5 == 0 : # if i is a multiple of 5 \n",
    "        print( \"I don't like multiples of 5, skipping this one\")\n",
    "        continue  # this jumps directly to the beginning of the loop, skipping the rest of _this_ iteration!  \n",
    "        \n",
    "    print( f\"i = {i}\")"
   ]
  },
  {
   "cell_type": "code",
   "execution_count": 18,
   "metadata": {
    "colab": {},
    "colab_type": "code",
    "id": "5W4Mgaf8nQ10"
   },
   "outputs": [
    {
     "name": "stdout",
     "output_type": "stream",
     "text": [
      "value : 9\n",
      "value : 8\n",
      "value : 7\n",
      "value : 6\n",
      "value : 4\n",
      "value : 3\n",
      "value : 2\n",
      "value : 1\n",
      "value : 0\n",
      "End Script\n"
     ]
    }
   ],
   "source": [
    "# Continue in WHILE\n",
    "value = 10\n",
    "while value > 0:\n",
    "    value = value -1\n",
    "    if value == 5:\n",
    "        continue\n",
    "    print (\"value : \" + str(value))\n",
    "\n",
    "print (\"End Script\")"
   ]
  },
  {
   "cell_type": "markdown",
   "metadata": {
    "colab_type": "text",
    "id": "0oaZnvTbgV_g"
   },
   "source": [
    "### `pass`\n",
    "\n",
    "This tells the program to literally do nothing. It is used when the syntax requires that the programmer write something, but the programmer does not wish for any code to be executed:"
   ]
  },
  {
   "cell_type": "code",
   "execution_count": 19,
   "metadata": {
    "colab": {
     "base_uri": "https://localhost:8080/",
     "height": 119
    },
    "colab_type": "code",
    "executionInfo": {
     "elapsed": 650,
     "status": "ok",
     "timestamp": 1591058221038,
     "user": {
      "displayName": "Ana Lopez",
      "photoUrl": "https://lh3.googleusercontent.com/a-/AOh14Gj1dkF5QHwdzo0ygY_LrTIzktyfsXlogjzGema4=s64",
      "userId": "15130352723004509221"
     },
     "user_tz": 300
    },
    "id": "Fnr629lInSoc",
    "outputId": "ee52f7c8-2258-4029-d79d-aa1fc374669a"
   },
   "outputs": [
    {
     "name": "stdout",
     "output_type": "stream",
     "text": [
      "char : P\n",
      "char : y\n",
      "char : t\n",
      "char : h\n",
      "char : o\n",
      "char : n\n"
     ]
    }
   ],
   "source": [
    "# Pass in FOR\n",
    "for char in \"Python\":\n",
    "    if char == \"h\":\n",
    "        pass\n",
    "    print (\"char : \" + char)"
   ]
  },
  {
   "cell_type": "code",
   "execution_count": 20,
   "metadata": {
    "colab": {},
    "colab_type": "code",
    "id": "rGauJmLFg4t-"
   },
   "outputs": [
    {
     "name": "stdout",
     "output_type": "stream",
     "text": [
      "value : 9\n",
      "value : 8\n",
      "value : 7\n",
      "value : 6\n",
      "value : 5\n",
      "value : 4\n",
      "value : 3\n",
      "value : 2\n",
      "value : 1\n",
      "value : 0\n",
      "End Script\n"
     ]
    }
   ],
   "source": [
    "# Pass in WHILE\n",
    "value = 10\n",
    "while value > 0:\n",
    "    value = value -1\n",
    "    if value == 5:\n",
    "        pass\n",
    "    print (\"value : \" + str(value))\n",
    "\n",
    "print (\"End Script\")"
   ]
  },
  {
   "cell_type": "markdown",
   "metadata": {
    "colab_type": "text",
    "id": "FJB3Y6Y8nXfV"
   },
   "source": [
    "## Errors and exceptions\n",
    "\n",
    "There are two different types of errors: **syntax errors** and **exceptions**."
   ]
  },
  {
   "cell_type": "markdown",
   "metadata": {
    "colab_type": "text",
    "id": "eDcBwZ8niL3v"
   },
   "source": [
    "### Syntax errors\n",
    "\n",
    "Syntax errors are code-writing errors - think of them as violations of proper spelling and grammar in any human language. When you attempt to execute such code, the code interpreter will flag an error and the line guilty of the error:\n",
    "\n",
    "```python\n",
    "while True print('Hello World')\n",
    "```\n",
    "```python\n",
    "File \"<stdin>\", line 1\n",
    "  while True print('Hello World')\n",
    "                  ^\n",
    "SyntaxError: invalid syntax\n",
    "```"
   ]
  },
  {
   "cell_type": "markdown",
   "metadata": {
    "colab_type": "text",
    "id": "603Zf-rLkGT4"
   },
   "source": [
    "### Exceptions\n",
    "\n",
    "Sometimes, even if all of your code is syntactically correct, it can generate an error during execution. The errors detected during execution are called exceptions or **run-time errors** and can be handled by Python programs.\n",
    "\n",
    "The `try...except` statement allows us to handle exceptions and works as follows:\n",
    "\n",
    "1. The `try` block is executed (the code between the `try` and` except` keywords.\n",
    "2. If no exception occurs, the `except` block is ignored and the execution of the` try` block ends. The program then continues as normal after the `try...except` block.\n",
    "3. If an exception occurs, the rest of the block is skipped. If the exception type matches the exception named after the `except` keyword, the `except` block is executed. The program then continues as normal after the `try...except` block.\n",
    "4. If an exception occurs that does not match the exception named in the `except` block, this is an **unhandled exception** and the execution stops with an error message indicating what happened, for example: **ZeroDivisionError**, **NameError**, **TypeError** and **ValueError**."
   ]
  },
  {
   "cell_type": "code",
   "execution_count": 21,
   "metadata": {
    "colab": {
     "base_uri": "https://localhost:8080/",
     "height": 181
    },
    "colab_type": "code",
    "executionInfo": {
     "elapsed": 496,
     "status": "error",
     "timestamp": 1591058291280,
     "user": {
      "displayName": "Ana Lopez",
      "photoUrl": "https://lh3.googleusercontent.com/a-/AOh14Gj1dkF5QHwdzo0ygY_LrTIzktyfsXlogjzGema4=s64",
      "userId": "15130352723004509221"
     },
     "user_tz": 300
    },
    "id": "JJ2i5QUriLS3",
    "outputId": "6ba455ef-ebe9-46a9-902f-b25ccc7a6bde"
   },
   "outputs": [
    {
     "ename": "ZeroDivisionError",
     "evalue": "division by zero",
     "output_type": "error",
     "traceback": [
      "\u001b[0;31m---------------------------------------------------------------------------\u001b[0m",
      "\u001b[0;31mZeroDivisionError\u001b[0m                         Traceback (most recent call last)",
      "\u001b[0;32m<ipython-input-21-b51a27e4affd>\u001b[0m in \u001b[0;36m<module>\u001b[0;34m\u001b[0m\n\u001b[1;32m      1\u001b[0m \u001b[0;31m# ZeroDivisionError\u001b[0m\u001b[0;34m\u001b[0m\u001b[0;34m\u001b[0m\u001b[0;34m\u001b[0m\u001b[0m\n\u001b[0;32m----> 2\u001b[0;31m \u001b[0;36m10\u001b[0m \u001b[0;34m*\u001b[0m \u001b[0;34m(\u001b[0m\u001b[0;36m1\u001b[0m\u001b[0;34m/\u001b[0m\u001b[0;36m0\u001b[0m\u001b[0;34m)\u001b[0m\u001b[0;34m\u001b[0m\u001b[0;34m\u001b[0m\u001b[0m\n\u001b[0m",
      "\u001b[0;31mZeroDivisionError\u001b[0m: division by zero"
     ]
    }
   ],
   "source": [
    "# ZeroDivisionError\n",
    "10 * (1/0)"
   ]
  },
  {
   "cell_type": "code",
   "execution_count": 22,
   "metadata": {
    "colab": {
     "base_uri": "https://localhost:8080/",
     "height": 181
    },
    "colab_type": "code",
    "executionInfo": {
     "elapsed": 664,
     "status": "error",
     "timestamp": 1591058293984,
     "user": {
      "displayName": "Ana Lopez",
      "photoUrl": "https://lh3.googleusercontent.com/a-/AOh14Gj1dkF5QHwdzo0ygY_LrTIzktyfsXlogjzGema4=s64",
      "userId": "15130352723004509221"
     },
     "user_tz": 300
    },
    "id": "KQPEvVfepUyF",
    "outputId": "d067ec87-746c-42f1-e8b0-894af559eb8c"
   },
   "outputs": [
    {
     "ename": "NameError",
     "evalue": "name 'spam' is not defined",
     "output_type": "error",
     "traceback": [
      "\u001b[0;31m---------------------------------------------------------------------------\u001b[0m",
      "\u001b[0;31mNameError\u001b[0m                                 Traceback (most recent call last)",
      "\u001b[0;32m<ipython-input-22-6e717bb9ceff>\u001b[0m in \u001b[0;36m<module>\u001b[0;34m\u001b[0m\n\u001b[1;32m      1\u001b[0m \u001b[0;31m# NameError\u001b[0m\u001b[0;34m\u001b[0m\u001b[0;34m\u001b[0m\u001b[0;34m\u001b[0m\u001b[0m\n\u001b[0;32m----> 2\u001b[0;31m \u001b[0;36m4\u001b[0m \u001b[0;34m+\u001b[0m \u001b[0mspam\u001b[0m\u001b[0;34m*\u001b[0m\u001b[0;36m3\u001b[0m\u001b[0;34m\u001b[0m\u001b[0;34m\u001b[0m\u001b[0m\n\u001b[0m",
      "\u001b[0;31mNameError\u001b[0m: name 'spam' is not defined"
     ]
    }
   ],
   "source": [
    "# NameError\n",
    "4 + spam*3"
   ]
  },
  {
   "cell_type": "code",
   "execution_count": 23,
   "metadata": {
    "colab": {
     "base_uri": "https://localhost:8080/",
     "height": 181
    },
    "colab_type": "code",
    "executionInfo": {
     "elapsed": 635,
     "status": "error",
     "timestamp": 1591058301119,
     "user": {
      "displayName": "Ana Lopez",
      "photoUrl": "https://lh3.googleusercontent.com/a-/AOh14Gj1dkF5QHwdzo0ygY_LrTIzktyfsXlogjzGema4=s64",
      "userId": "15130352723004509221"
     },
     "user_tz": 300
    },
    "id": "8_jfDp-GpZdw",
    "outputId": "b8dd0794-8fba-4384-acd6-6bee3835e480"
   },
   "outputs": [
    {
     "ename": "TypeError",
     "evalue": "must be str, not int",
     "output_type": "error",
     "traceback": [
      "\u001b[0;31m---------------------------------------------------------------------------\u001b[0m",
      "\u001b[0;31mTypeError\u001b[0m                                 Traceback (most recent call last)",
      "\u001b[0;32m<ipython-input-23-9b4afe85d229>\u001b[0m in \u001b[0;36m<module>\u001b[0;34m\u001b[0m\n\u001b[1;32m      1\u001b[0m \u001b[0;31m# TypeError\u001b[0m\u001b[0;34m\u001b[0m\u001b[0;34m\u001b[0m\u001b[0;34m\u001b[0m\u001b[0m\n\u001b[0;32m----> 2\u001b[0;31m \u001b[0;34m'2'\u001b[0m \u001b[0;34m+\u001b[0m \u001b[0;36m2\u001b[0m\u001b[0;34m\u001b[0m\u001b[0;34m\u001b[0m\u001b[0m\n\u001b[0m",
      "\u001b[0;31mTypeError\u001b[0m: must be str, not int"
     ]
    }
   ],
   "source": [
    "# TypeError\n",
    "'2' + 2"
   ]
  },
  {
   "cell_type": "code",
   "execution_count": 24,
   "metadata": {
    "colab": {
     "base_uri": "https://localhost:8080/",
     "height": 181
    },
    "colab_type": "code",
    "executionInfo": {
     "elapsed": 705,
     "status": "error",
     "timestamp": 1591058306493,
     "user": {
      "displayName": "Ana Lopez",
      "photoUrl": "https://lh3.googleusercontent.com/a-/AOh14Gj1dkF5QHwdzo0ygY_LrTIzktyfsXlogjzGema4=s64",
      "userId": "15130352723004509221"
     },
     "user_tz": 300
    },
    "id": "-xO-r4s6ncvC",
    "outputId": "8aa0beef-5543-49ac-f7e4-482f37e184c4"
   },
   "outputs": [
    {
     "ename": "ValueError",
     "evalue": "could not convert string to float: 'juan'",
     "output_type": "error",
     "traceback": [
      "\u001b[0;31m---------------------------------------------------------------------------\u001b[0m",
      "\u001b[0;31mValueError\u001b[0m                                Traceback (most recent call last)",
      "\u001b[0;32m<ipython-input-24-787ebf90f3c4>\u001b[0m in \u001b[0;36m<module>\u001b[0;34m\u001b[0m\n\u001b[1;32m      1\u001b[0m \u001b[0;31m#ValueError\u001b[0m\u001b[0;34m\u001b[0m\u001b[0;34m\u001b[0m\u001b[0;34m\u001b[0m\u001b[0m\n\u001b[0;32m----> 2\u001b[0;31m \u001b[0mfloat\u001b[0m\u001b[0;34m(\u001b[0m\u001b[0;34m\"juan\"\u001b[0m\u001b[0;34m)\u001b[0m\u001b[0;34m\u001b[0m\u001b[0;34m\u001b[0m\u001b[0m\n\u001b[0m",
      "\u001b[0;31mValueError\u001b[0m: could not convert string to float: 'juan'"
     ]
    }
   ],
   "source": [
    "#ValueError\n",
    "float(\"juan\")"
   ]
  },
  {
   "cell_type": "code",
   "execution_count": 25,
   "metadata": {
    "colab": {},
    "colab_type": "code",
    "id": "rJnu_9LonY6L"
   },
   "outputs": [
    {
     "ename": "ZeroDivisionError",
     "evalue": "division by zero",
     "output_type": "error",
     "traceback": [
      "\u001b[0;31m---------------------------------------------------------------------------\u001b[0m",
      "\u001b[0;31mZeroDivisionError\u001b[0m                         Traceback (most recent call last)",
      "\u001b[0;32m<ipython-input-25-afbe8a7cd07d>\u001b[0m in \u001b[0;36m<module>\u001b[0;34m\u001b[0m\n\u001b[1;32m      2\u001b[0m \u001b[0mmy_string\u001b[0m \u001b[0;34m=\u001b[0m \u001b[0;34m\"asd\"\u001b[0m\u001b[0;34m\u001b[0m\u001b[0;34m\u001b[0m\u001b[0m\n\u001b[1;32m      3\u001b[0m \u001b[0;32mtry\u001b[0m \u001b[0;34m:\u001b[0m\u001b[0;34m\u001b[0m\u001b[0;34m\u001b[0m\u001b[0m\n\u001b[0;32m----> 4\u001b[0;31m     \u001b[0mmy_string_as_float\u001b[0m \u001b[0;34m=\u001b[0m \u001b[0;36m2\u001b[0m \u001b[0;34m/\u001b[0m \u001b[0;36m0\u001b[0m \u001b[0;31m#float( my_string )\u001b[0m\u001b[0;34m\u001b[0m\u001b[0;34m\u001b[0m\u001b[0m\n\u001b[0m\u001b[1;32m      5\u001b[0m     \u001b[0mprint\u001b[0m\u001b[0;34m(\u001b[0m \u001b[0;34m\"the entered value could be converted directly to a number\"\u001b[0m\u001b[0;34m)\u001b[0m\u001b[0;34m\u001b[0m\u001b[0;34m\u001b[0m\u001b[0m\n\u001b[1;32m      6\u001b[0m \u001b[0;32mexcept\u001b[0m \u001b[0mValueError\u001b[0m \u001b[0;32mas\u001b[0m \u001b[0merr\u001b[0m \u001b[0;34m:\u001b[0m\u001b[0;34m\u001b[0m\u001b[0;34m\u001b[0m\u001b[0m\n",
      "\u001b[0;31mZeroDivisionError\u001b[0m: division by zero"
     ]
    }
   ],
   "source": [
    "# try-except structure with particular type of exception defined\n",
    "my_string = \"asd\"\n",
    "try : \n",
    "    my_string_as_float = 2 / 0 #float( my_string ) \n",
    "    print( \"the entered value could be converted directly to a number\")\n",
    "except ValueError as err :  \n",
    "    # capture this particular type of exception and bind it to the name 'err'\n",
    "    print( \"an exception was thrown: defaulting to special float value = nan\")\n",
    "    a_as_float = float( \"nan\")\n",
    "    print(err)\n",
    "#print( f\"a_as_float = {a_as_float}\")"
   ]
  },
  {
   "cell_type": "code",
   "execution_count": 26,
   "metadata": {
    "colab": {},
    "colab_type": "code",
    "id": "s6c254MRp8Aa"
   },
   "outputs": [
    {
     "name": "stdout",
     "output_type": "stream",
     "text": [
      "the entered value could be converted directly to a number\n"
     ]
    }
   ],
   "source": [
    "# try-except structure with general type of exception\n",
    "my_string = 12\n",
    "try : \n",
    "    my_string_as_float = float( my_string ) \n",
    "    print( \"the entered value could be converted directly to a number\")\n",
    "except:  \n",
    "    # capture this particular type of exception and bind it to the name 'err'\n",
    "    print( \"an exception was thrown: defaulting to special float value = nan\")\n",
    "    a_as_float = float( \"nan\")\n",
    "    print( f\"a_as_float = {a_as_float}\")"
   ]
  },
  {
   "cell_type": "code",
   "execution_count": 27,
   "metadata": {
    "colab": {},
    "colab_type": "code",
    "id": "CMfgOS7kq7I_"
   },
   "outputs": [
    {
     "name": "stdout",
     "output_type": "stream",
     "text": [
      "an exception was thrown: could not convert string to float: 'asdad'\n",
      "a_as_float = nan\n"
     ]
    }
   ],
   "source": [
    "# try-except structure with general type of exception and print error\n",
    "my_string = \"asdad\"\n",
    "try : \n",
    "    my_string_as_float = float( my_string ) \n",
    "    print( \"the entered value could be converted directly to a number\")\n",
    "except Exception as inst:  \n",
    "    # capture this particular type of exception and bind it to the name 'err'\n",
    "    print( f\"an exception was thrown: {inst}\")\n",
    "    a_as_float = float( \"nan\")\n",
    "print( f\"a_as_float = {a_as_float}\")"
   ]
  },
  {
   "cell_type": "code",
   "execution_count": 28,
   "metadata": {
    "colab": {},
    "colab_type": "code",
    "id": "1EN353bOqZ4k"
   },
   "outputs": [
    {
     "name": "stdout",
     "output_type": "stream",
     "text": [
      "an exception was thrown: defaulting to special float value = nan\n",
      "a_as_float = nan\n"
     ]
    }
   ],
   "source": [
    "# try-except structure with general type of exception\n",
    "my_string = \"asdad\"\n",
    "try : \n",
    "    my_string_as_float = float( my_string ) \n",
    "    print( \"the entered value could be converted directly to a number\")\n",
    "except:\n",
    "    # capture this particular type of exception and bind it to the name 'err'\n",
    "    print( \"an exception was thrown: defaulting to special float value = nan\")\n",
    "    a_as_float = float( \"nan\")\n",
    "print( f\"a_as_float = {a_as_float}\")"
   ]
  },
  {
   "cell_type": "markdown",
   "metadata": {
    "colab_type": "text",
    "id": "EKnsKemowY9X"
   },
   "source": [
    "The `try` statement can optionally include a `finally` clause that attempts to define cleanup actions that must be executed under certain circumstances. The `finally` clause, if it is defined, is *always* executed before exiting the `try` statement, whether an exception has occurred or not."
   ]
  },
  {
   "cell_type": "code",
   "execution_count": 29,
   "metadata": {
    "colab": {},
    "colab_type": "code",
    "id": "S9NyzEOwtOV-"
   },
   "outputs": [
    {
     "name": "stdout",
     "output_type": "stream",
     "text": [
      "el resultado es 2.0\n",
      "ejecutando la clausula finally\n"
     ]
    }
   ],
   "source": [
    "# structure try-except-finally\n",
    "try:\n",
    "  #result = x / 0\n",
    "  result = 4/2\n",
    "except ZeroDivisionError:\n",
    "  print(\"¡división por cero!\")\n",
    "else:\n",
    "  print(\"el resultado es\", result)\n",
    "finally:\n",
    "  print(\"ejecutando la clausula finally\")"
   ]
  },
  {
   "cell_type": "markdown",
   "metadata": {
    "colab_type": "text",
    "id": "Za6SV4IV3jrR"
   },
   "source": [
    "## Classes\n",
    "\n",
    "**Classes** provide a way to pack data and functionality together. When creating a new class, a new *type* of object is created, allowing us to create new *instances* of this type. Each class instance can have attributes attached to maintain its state. Class instances can also have methods (defined by their class) to modify their state.\n",
    "\n",
    "The variable *self* is an instance of the class and it is not a Python reserved word. Every time we declare a method in Python, we will have to add the variable *self* to it so that when the method is invoked, Python passes the instantiated object and operates with the current values of that instance:"
   ]
  },
  {
   "cell_type": "code",
   "execution_count": 30,
   "metadata": {
    "colab": {},
    "colab_type": "code",
    "id": "JbJ31lPrCGwg"
   },
   "outputs": [],
   "source": [
    "# We define the class with name pet\n",
    "class Pet:\n",
    "  # Attributes\n",
    "  species = 'Cat'\n",
    "  _oculto = 2\n",
    "\n",
    "  \n",
    "  def __init__(self,name,species=species):\n",
    "    \"\"\"\n",
    "      The __init__ method is a function to initialize the class, if the species is not specified it takes the default value defined in the attribute.\n",
    "    \"\"\"\n",
    "    self.name = name\n",
    "    self.species = species\n",
    "    self._private=None\n",
    "  \n",
    "  def __str__(self):\n",
    "    \"\"\"\n",
    "      The __str__ method is a function that provides an informal string of the object representation.\n",
    "    \"\"\"\n",
    "    return \"%s is a %s\" % (self.name, self.species)\n",
    "\n",
    "  def giveName(self):\n",
    "    \"\"\"\n",
    "      It returns the name of the pet.\n",
    "    \"\"\"\n",
    "    return self.name\n",
    "  \n",
    "  def giveSpecies(self):\n",
    "    \"\"\"\n",
    "      It returns the species of the pet.\n",
    "    \"\"\"\n",
    "    return self.species"
   ]
  },
  {
   "cell_type": "code",
   "execution_count": 31,
   "metadata": {
    "colab": {},
    "colab_type": "code",
    "id": "nQfkVQdnCM9v"
   },
   "outputs": [],
   "source": [
    "Theo = Pet(\"Theo\",\"Dog\")"
   ]
  },
  {
   "cell_type": "code",
   "execution_count": 32,
   "metadata": {
    "colab": {
     "base_uri": "https://localhost:8080/",
     "height": 34
    },
    "colab_type": "code",
    "executionInfo": {
     "elapsed": 540,
     "status": "ok",
     "timestamp": 1591058686238,
     "user": {
      "displayName": "Ana Lopez",
      "photoUrl": "https://lh3.googleusercontent.com/a-/AOh14Gj1dkF5QHwdzo0ygY_LrTIzktyfsXlogjzGema4=s64",
      "userId": "15130352723004509221"
     },
     "user_tz": 300
    },
    "id": "XJ4AQjxzES9Z",
    "outputId": "160fe458-7444-4430-9ecb-5b1b1bffcf7b"
   },
   "outputs": [
    {
     "name": "stdout",
     "output_type": "stream",
     "text": [
      "Theo is a Dog\n"
     ]
    }
   ],
   "source": [
    "print(Theo)"
   ]
  },
  {
   "cell_type": "code",
   "execution_count": 33,
   "metadata": {
    "colab": {},
    "colab_type": "code",
    "id": "8hKCuS8QFx4k"
   },
   "outputs": [],
   "source": [
    "Theo.species = \"Cat\""
   ]
  },
  {
   "cell_type": "code",
   "execution_count": 34,
   "metadata": {
    "colab": {
     "base_uri": "https://localhost:8080/",
     "height": 34
    },
    "colab_type": "code",
    "executionInfo": {
     "elapsed": 592,
     "status": "ok",
     "timestamp": 1591058704022,
     "user": {
      "displayName": "Ana Lopez",
      "photoUrl": "https://lh3.googleusercontent.com/a-/AOh14Gj1dkF5QHwdzo0ygY_LrTIzktyfsXlogjzGema4=s64",
      "userId": "15130352723004509221"
     },
     "user_tz": 300
    },
    "id": "L1mbbGJbF2qM",
    "outputId": "063dc81b-4117-48be-9044-96adcddaf334"
   },
   "outputs": [
    {
     "name": "stdout",
     "output_type": "stream",
     "text": [
      "Theo is a Cat\n"
     ]
    }
   ],
   "source": [
    "print(Theo)"
   ]
  },
  {
   "cell_type": "code",
   "execution_count": 35,
   "metadata": {
    "colab": {},
    "colab_type": "code",
    "id": "gzdIUB-PCY-Q"
   },
   "outputs": [],
   "source": [
    "?Theo.giveSpecies"
   ]
  },
  {
   "cell_type": "markdown",
   "metadata": {
    "colab_type": "text",
    "id": "vG1rGnfUyAw_"
   },
   "source": [
    "## `lambda` functions\n",
    "\n",
    "`lambda` is Python's way of defining very simple anonymous functions whose return value is the result of evaluating a single expression.\n",
    "\n",
    "```python\n",
    "lambda arguments: result\n",
    "```\n",
    "\n",
    "The main reason to use these types of functions is for speed and in certain cases clarity of the code."
   ]
  },
  {
   "cell_type": "code",
   "execution_count": 36,
   "metadata": {
    "colab": {
     "base_uri": "https://localhost:8080/",
     "height": 34
    },
    "colab_type": "code",
    "executionInfo": {
     "elapsed": 836,
     "status": "ok",
     "timestamp": 1591058768976,
     "user": {
      "displayName": "Ana Lopez",
      "photoUrl": "https://lh3.googleusercontent.com/a-/AOh14Gj1dkF5QHwdzo0ygY_LrTIzktyfsXlogjzGema4=s64",
      "userId": "15130352723004509221"
     },
     "user_tz": 300
    },
    "id": "L-9Zzcf-xV9M",
    "outputId": "c9c6d640-fa54-4d0a-ac92-95c9157fbbc6"
   },
   "outputs": [
    {
     "data": {
      "text/plain": [
       "5"
      ]
     },
     "execution_count": 36,
     "metadata": {},
     "output_type": "execute_result"
    }
   ],
   "source": [
    "# Define function\n",
    "def function_sum(x,y):\n",
    "  return x + y\n",
    "function_sum(2,3)"
   ]
  },
  {
   "cell_type": "code",
   "execution_count": 37,
   "metadata": {
    "colab": {
     "base_uri": "https://localhost:8080/",
     "height": 34
    },
    "colab_type": "code",
    "executionInfo": {
     "elapsed": 732,
     "status": "ok",
     "timestamp": 1591058785909,
     "user": {
      "displayName": "Ana Lopez",
      "photoUrl": "https://lh3.googleusercontent.com/a-/AOh14Gj1dkF5QHwdzo0ygY_LrTIzktyfsXlogjzGema4=s64",
      "userId": "15130352723004509221"
     },
     "user_tz": 300
    },
    "id": "F2cBw1UCzXxu",
    "outputId": "5ca8441b-b443-490a-ef78-f9a0f1e317a5"
   },
   "outputs": [
    {
     "data": {
      "text/plain": [
       "5"
      ]
     },
     "execution_count": 37,
     "metadata": {},
     "output_type": "execute_result"
    }
   ],
   "source": [
    "# Define lambda\n",
    "lambda_function = lambda x,y: x + y\n",
    "lambda_function(2,3)"
   ]
  },
  {
   "cell_type": "markdown",
   "metadata": {
    "colab_type": "text",
    "id": "CCrgLw9kInl6"
   },
   "source": [
    "### Using `lambda` with `sorted()`"
   ]
  },
  {
   "cell_type": "code",
   "execution_count": 38,
   "metadata": {
    "colab": {},
    "colab_type": "code",
    "id": "tubNIOE1IlNX"
   },
   "outputs": [],
   "source": [
    "data_recs = [\n",
    "  [ \"Maria\",  7.0, 8.0, 3.0 ],\n",
    "  [ \"Juan\" ,  5.0, 2.0, 2.0 ],\n",
    "  [ \"Mateo\",  1.0, 4.0, 4.0 ],     \n",
    "]"
   ]
  },
  {
   "cell_type": "markdown",
   "metadata": {
    "colab_type": "text",
    "id": "I0gMsYRKI0vS"
   },
   "source": [
    "Let's say you want to sort these records by the value of the first numeric component (index 1 in the list):"
   ]
  },
  {
   "cell_type": "code",
   "execution_count": 39,
   "metadata": {
    "colab": {},
    "colab_type": "code",
    "id": "cnnxmx34GLCP"
   },
   "outputs": [
    {
     "data": {
      "text/plain": [
       "5.0"
      ]
     },
     "execution_count": 39,
     "metadata": {},
     "output_type": "execute_result"
    }
   ],
   "source": [
    "data_recs[:][1][1]"
   ]
  },
  {
   "cell_type": "code",
   "execution_count": 40,
   "metadata": {
    "colab": {},
    "colab_type": "code",
    "id": "gpyAT554sq6Q"
   },
   "outputs": [
    {
     "data": {
      "text/plain": [
       "[['Juan', 5.0, 2.0, 2.0], ['Maria', 7.0, 8.0, 3.0], ['Mateo', 1.0, 4.0, 4.0]]"
      ]
     },
     "execution_count": 40,
     "metadata": {},
     "output_type": "execute_result"
    }
   ],
   "source": [
    "sorted(data_recs)"
   ]
  },
  {
   "cell_type": "code",
   "execution_count": 41,
   "metadata": {
    "colab": {},
    "colab_type": "code",
    "id": "OzS9mRMOI12A"
   },
   "outputs": [
    {
     "data": {
      "text/plain": [
       "[['Mateo', 1.0, 4.0, 4.0], ['Juan', 5.0, 2.0, 2.0], ['Maria', 7.0, 8.0, 3.0]]"
      ]
     },
     "execution_count": 41,
     "metadata": {},
     "output_type": "execute_result"
    }
   ],
   "source": [
    "records_sorted = sorted(data_recs, key = lambda rec : rec[1])\n",
    "records_sorted"
   ]
  },
  {
   "cell_type": "markdown",
   "metadata": {
    "colab_type": "text",
    "id": "u5yJ_cd0caZ3"
   },
   "source": [
    "### Exercise 5:\n",
    "\n",
    "Modify the previous example and sort the records in descending order by the last record."
   ]
  },
  {
   "cell_type": "code",
   "execution_count": 42,
   "metadata": {
    "colab": {},
    "colab_type": "code",
    "id": "PSAOrEaoqRWM"
   },
   "outputs": [
    {
     "name": "stdout",
     "output_type": "stream",
     "text": [
      "Help on built-in function sorted in module builtins:\n",
      "\n",
      "sorted(iterable, /, *, key=None, reverse=False)\n",
      "    Return a new list containing all items from the iterable in ascending order.\n",
      "    \n",
      "    A custom key function can be supplied to customize the sort order, and the\n",
      "    reverse flag can be set to request the result in descending order.\n",
      "\n"
     ]
    }
   ],
   "source": [
    "help(sorted)"
   ]
  },
  {
   "cell_type": "code",
   "execution_count": 43,
   "metadata": {
    "colab": {},
    "colab_type": "code",
    "id": "sGLTLVN8cg-Z"
   },
   "outputs": [],
   "source": [
    "# Your code ..."
   ]
  },
  {
   "cell_type": "markdown",
   "metadata": {
    "colab_type": "text",
    "id": "B4ldG2-h1zj5"
   },
   "source": [
    "### `filter()` function\n",
    "\n",
    "The function `filter(function, iterable)` builds a list with those elements for which `function(iterable[i])` returns `True`. It can be used in conjunction with `lambda` functions:"
   ]
  },
  {
   "cell_type": "code",
   "execution_count": 44,
   "metadata": {
    "colab": {},
    "colab_type": "code",
    "id": "UVIJlDDm5ZKj"
   },
   "outputs": [],
   "source": [
    "a = [0, 1, -1, -2, 3, -4, 5, 6, 7]\n",
    "result = filter(lambda x: x > 0, a)"
   ]
  },
  {
   "cell_type": "code",
   "execution_count": 45,
   "metadata": {
    "colab": {},
    "colab_type": "code",
    "id": "Juc5egnQvOw7"
   },
   "outputs": [
    {
     "name": "stdout",
     "output_type": "stream",
     "text": [
      "1\n",
      "3\n",
      "5\n",
      "6\n",
      "7\n"
     ]
    }
   ],
   "source": [
    "for val in result:\n",
    "  print(val)"
   ]
  },
  {
   "cell_type": "code",
   "execution_count": 46,
   "metadata": {
    "colab": {},
    "colab_type": "code",
    "id": "jTD6YlIAvZhc"
   },
   "outputs": [
    {
     "data": {
      "text/plain": [
       "[]"
      ]
     },
     "execution_count": 46,
     "metadata": {},
     "output_type": "execute_result"
    }
   ],
   "source": [
    "list(result)"
   ]
  },
  {
   "cell_type": "code",
   "execution_count": 47,
   "metadata": {
    "colab": {},
    "colab_type": "code",
    "id": "yhhtTZNJzi3E"
   },
   "outputs": [
    {
     "data": {
      "text/plain": [
       "[5, 10, 50]"
      ]
     },
     "execution_count": 47,
     "metadata": {},
     "output_type": "execute_result"
    }
   ],
   "source": [
    "def multiple(number):    # We first declare a conditional function\n",
    "    if number % 5 == 0:  # We check if a number is a multiple of five\n",
    "        return True      # We only return True if it is\n",
    "\n",
    "numbers = [2, 5, 10, 23, 50, 33]\n",
    "\n",
    "list(filter(multiple, numbers))"
   ]
  },
  {
   "cell_type": "code",
   "execution_count": 48,
   "metadata": {
    "colab": {},
    "colab_type": "code",
    "id": "S3Wh1MMf2jy7"
   },
   "outputs": [
    {
     "data": {
      "text/plain": [
       "[5, 10, 50]"
      ]
     },
     "execution_count": 48,
     "metadata": {},
     "output_type": "execute_result"
    }
   ],
   "source": [
    "list(filter(lambda number: number % 5 == 0, numbers))"
   ]
  },
  {
   "cell_type": "markdown",
   "metadata": {
    "colab_type": "text",
    "id": "ea0V1PIz2_k3"
   },
   "source": [
    "#### Filtering objects"
   ]
  },
  {
   "cell_type": "code",
   "execution_count": 49,
   "metadata": {
    "colab": {},
    "colab_type": "code",
    "id": "6vyVk4GE2-sB"
   },
   "outputs": [
    {
     "name": "stdout",
     "output_type": "stream",
     "text": [
      "Juan is 35 years old\n",
      "Marta is 16 years old\n",
      "Manuel is 78 years old\n",
      "Eduardo is 12 years old\n"
     ]
    }
   ],
   "source": [
    "# We define a person class\n",
    "class Person:\n",
    "\n",
    "    def __init__(self, name, age):\n",
    "        self.name = name\n",
    "        self.age = age\n",
    "\n",
    "    def __str__(self):\n",
    "        return \"{} is {} years old\".format(self.name, self.age)\n",
    "\n",
    "# A list with 4 people is created\n",
    "persons = [\n",
    "    Person(\"Juan\", 35),\n",
    "    Person(\"Marta\", 16),\n",
    "    Person(\"Manuel\", 78),\n",
    "    Person(\"Eduardo\", 12)\n",
    "]\n",
    "\n",
    "# We display the list\n",
    "for p in persons:\n",
    "    print(p)"
   ]
  },
  {
   "cell_type": "code",
   "execution_count": 50,
   "metadata": {
    "colab": {},
    "colab_type": "code",
    "id": "1aZrKfZ723vB"
   },
   "outputs": [
    {
     "name": "stdout",
     "output_type": "stream",
     "text": [
      "Marta is 16 years old\n",
      "Eduardo is 12 years old\n"
     ]
    }
   ],
   "source": [
    "# You want to filter those under 18\n",
    "minors = filter(lambda person: person.age < 18, persons)\n",
    "\n",
    "# We display the objects in the filtered list\n",
    "for minor in minors:\n",
    "    print(minor)"
   ]
  },
  {
   "cell_type": "markdown",
   "metadata": {
    "colab_type": "text",
    "id": "jvwFgni-G21s"
   },
   "source": [
    "### `map()` function\n",
    "\n",
    "This is similar to `filter()`, with the difference that instead of applying a condition to an element of a list or sequence, it applies a function on all the elements and as a result an iterable of type `map` is returned:"
   ]
  },
  {
   "cell_type": "code",
   "execution_count": 51,
   "metadata": {
    "colab": {},
    "colab_type": "code",
    "id": "Lh2S_KoBGEYo"
   },
   "outputs": [
    {
     "data": {
      "text/plain": [
       "[4, 10, 20, 46, 100, 66]"
      ]
     },
     "execution_count": 51,
     "metadata": {},
     "output_type": "execute_result"
    }
   ],
   "source": [
    "numbers = [2, 5, 10, 23, 50, 33]\n",
    "list(map(lambda x: x*2, numbers))"
   ]
  },
  {
   "cell_type": "markdown",
   "metadata": {
    "colab_type": "text",
    "id": "9YusI2PeH23G"
   },
   "source": [
    "The `map()` function is widely used in conjunction with lambda expressions as it saves effort from creating `for` loops. Additionally, it can be used on more than one iterable at a time, with the condition that they have the same length:"
   ]
  },
  {
   "cell_type": "code",
   "execution_count": 52,
   "metadata": {
    "colab": {},
    "colab_type": "code",
    "id": "PEzzQDI9HiTn"
   },
   "outputs": [
    {
     "data": {
      "text/plain": [
       "[6, 14, 24, 36, 50]"
      ]
     },
     "execution_count": 52,
     "metadata": {},
     "output_type": "execute_result"
    }
   ],
   "source": [
    "a = [1, 2, 3, 4, 5]\n",
    "b = [6, 7, 8, 9, 10]\n",
    "\n",
    "list( map(lambda x,y : x*y, a,b) )"
   ]
  },
  {
   "cell_type": "code",
   "execution_count": 53,
   "metadata": {
    "colab": {},
    "colab_type": "code",
    "id": "uKmVqAWxH8Fy"
   },
   "outputs": [
    {
     "data": {
      "text/plain": [
       "[66, 168, 312, 504, 750]"
      ]
     },
     "execution_count": 53,
     "metadata": {},
     "output_type": "execute_result"
    }
   ],
   "source": [
    "c = [11, 12, 13, 14, 15]\n",
    "\n",
    "list( map(lambda x,y,z : x*y*z, a,b,c) )"
   ]
  },
  {
   "cell_type": "markdown",
   "metadata": {
    "colab_type": "text",
    "id": "1NbNO5ATIDOn"
   },
   "source": [
    "#### Mapping objects"
   ]
  },
  {
   "cell_type": "code",
   "execution_count": 54,
   "metadata": {
    "colab": {},
    "colab_type": "code",
    "id": "Wglb4CfPH83A"
   },
   "outputs": [
    {
     "name": "stdout",
     "output_type": "stream",
     "text": [
      "Juan is 36 years old\n",
      "Marta is 17 years old\n",
      "Manuel is 79 years old\n",
      "Eduardo is 13 years old\n"
     ]
    }
   ],
   "source": [
    "persons = map(lambda p: Person(p.name, p.age + 1), persons)\n",
    "\n",
    "for person in persons:\n",
    "    print(person)"
   ]
  },
  {
   "cell_type": "markdown",
   "metadata": {
    "colab_type": "text",
    "id": "X9i2_7F4MUlV"
   },
   "source": [
    "## List comprenhensions\n",
    "\n",
    "Suppose that we have:\n",
    "\n",
    "* A list of input `input_arr = [elem1, elem2, elem3, ...]`\n",
    "* A `fun()` function\n",
    "\n",
    "We want to produce the array `output_arr = [fun(elem1), fun(elem2), fun(elem3)`; that is, by applying `fun()` to each element of the array and returning the results.\n",
    "\n",
    "Here is how most programmers would approach this problem:"
   ]
  },
  {
   "cell_type": "code",
   "execution_count": 55,
   "metadata": {
    "colab": {
     "base_uri": "https://localhost:8080/",
     "height": 34
    },
    "colab_type": "code",
    "executionInfo": {
     "elapsed": 1020,
     "status": "ok",
     "timestamp": 1591058892524,
     "user": {
      "displayName": "Ana Lopez",
      "photoUrl": "https://lh3.googleusercontent.com/a-/AOh14Gj1dkF5QHwdzo0ygY_LrTIzktyfsXlogjzGema4=s64",
      "userId": "15130352723004509221"
     },
     "user_tz": 300
    },
    "id": "t2B-RQvMILkw",
    "outputId": "f5f3d77c-e668-4faa-e8d1-b736e96b0fac"
   },
   "outputs": [
    {
     "data": {
      "text/plain": [
       "['Maria', 'Ana', 'Sara']"
      ]
     },
     "execution_count": 55,
     "metadata": {},
     "output_type": "execute_result"
    }
   ],
   "source": [
    "input_arr = [\"maria\", \"ana\", \"sara\"]\n",
    "capitalize = lambda a_str :  a_str[0].upper() + a_str[1:]\n",
    "\n",
    "# Non-idiomatic Python code follows: \n",
    "output_arr = []\n",
    "for elem in input_arr : \n",
    "    output_arr.append( capitalize( elem ) )\n",
    "    \n",
    "output_arr"
   ]
  },
  {
   "cell_type": "markdown",
   "metadata": {
    "colab_type": "text",
    "id": "kI86sjG2J18y"
   },
   "source": [
    "That is about 3 lines. Not bad, but could be much better. Python's idiomatic solution is called **list comprehension**.\n",
    "\n",
    "```python\n",
    "[funcion(x) for item in list1]\n",
    "```"
   ]
  },
  {
   "cell_type": "code",
   "execution_count": 56,
   "metadata": {
    "colab": {
     "base_uri": "https://localhost:8080/",
     "height": 34
    },
    "colab_type": "code",
    "executionInfo": {
     "elapsed": 711,
     "status": "ok",
     "timestamp": 1591058922970,
     "user": {
      "displayName": "Ana Lopez",
      "photoUrl": "https://lh3.googleusercontent.com/a-/AOh14Gj1dkF5QHwdzo0ygY_LrTIzktyfsXlogjzGema4=s64",
      "userId": "15130352723004509221"
     },
     "user_tz": 300
    },
    "id": "VN4k_PnqJrRL",
    "outputId": "e0c14089-58bc-4e5c-cf01-2487f00a2a7b"
   },
   "outputs": [
    {
     "name": "stdout",
     "output_type": "stream",
     "text": [
      "['Maria', 'Ana', 'Sara']\n"
     ]
    }
   ],
   "source": [
    "output_arr2 = [ capitalize(elem)  for elem in input_arr ]\n",
    "print(output_arr2)"
   ]
  },
  {
   "cell_type": "markdown",
   "metadata": {
    "colab_type": "text",
    "id": "IBgBFzGGMvAq"
   },
   "source": [
    "### Conditionals in list comprehensions\n",
    "\n",
    "In this case you want to make a conditional to define the values in the list:\n",
    "\n",
    "```python\n",
    "[result1 if conditional else result2 for item in list1 ]\n",
    "[result for item in list1 if conditional]\n",
    "```"
   ]
  },
  {
   "cell_type": "code",
   "execution_count": 57,
   "metadata": {
    "colab": {
     "base_uri": "https://localhost:8080/",
     "height": 34
    },
    "colab_type": "code",
    "executionInfo": {
     "elapsed": 693,
     "status": "ok",
     "timestamp": 1591058987664,
     "user": {
      "displayName": "Ana Lopez",
      "photoUrl": "https://lh3.googleusercontent.com/a-/AOh14Gj1dkF5QHwdzo0ygY_LrTIzktyfsXlogjzGema4=s64",
      "userId": "15130352723004509221"
     },
     "user_tz": 300
    },
    "id": "TmY6FybfJ8l3",
    "outputId": "6c5409b7-5a53-47c2-de40-8351fc65fba4"
   },
   "outputs": [
    {
     "name": "stdout",
     "output_type": "stream",
     "text": [
      "[1, 4, 27, 16, 125, 36, 343, 64, 729, 100, 1331, 144, 2197, 196, 3375]\n"
     ]
    }
   ],
   "source": [
    "squares_cubes = [n**2 if n%2 == 0 else n**3 for n in range(1,16)]\n",
    "print(squares_cubes)"
   ]
  },
  {
   "cell_type": "code",
   "execution_count": 58,
   "metadata": {
    "colab": {
     "base_uri": "https://localhost:8080/",
     "height": 34
    },
    "colab_type": "code",
    "executionInfo": {
     "elapsed": 757,
     "status": "ok",
     "timestamp": 1591058998423,
     "user": {
      "displayName": "Ana Lopez",
      "photoUrl": "https://lh3.googleusercontent.com/a-/AOh14Gj1dkF5QHwdzo0ygY_LrTIzktyfsXlogjzGema4=s64",
      "userId": "15130352723004509221"
     },
     "user_tz": 300
    },
    "id": "_1c0EeWNLmHi",
    "outputId": "445a37ef-4698-4aab-8a6f-df62f4b93179"
   },
   "outputs": [
    {
     "name": "stdout",
     "output_type": "stream",
     "text": [
      "[2, 4, 6, 8, 10, 12, 14, 16, 18, 20]\n"
     ]
    }
   ],
   "source": [
    "evens = [n for n in range(1,21) if n%2 == 0] \n",
    "print(evens)"
   ]
  },
  {
   "cell_type": "markdown",
   "metadata": {
    "colab_type": "text",
    "id": "x5BXGCvtL1xX"
   },
   "source": [
    "### List comprehensions for nested loops\n",
    "\n",
    "List comprehensions can also be used to perform operations on nested loops, such as traversing a list of lists:\n",
    "\n",
    "```python\n",
    "[ <the_expression> for <element_a> in <iterable_a> (optional if <condition_a>)\n",
    "                   for <element_b> in <iterable_b> (optional if <condition_b>)\n",
    "                   for <element_c> in <iterable_c> (optional if <condition_c>)\n",
    "                   ... and so on ...]\n",
    "```"
   ]
  },
  {
   "cell_type": "code",
   "execution_count": 59,
   "metadata": {
    "colab": {},
    "colab_type": "code",
    "id": "WpW-Pn3DLo7F"
   },
   "outputs": [
    {
     "name": "stdout",
     "output_type": "stream",
     "text": [
      "[6, 8, 10, 12]\n"
     ]
    }
   ],
   "source": [
    "matrix = [\n",
    "    [1, 2, 3, 4],\n",
    "    [5, 6, 7, 8],\n",
    "    [9, 10, 11, 12],\n",
    "]\n",
    " \n",
    "flatten = [n for row in matrix if sum(row)>11 for n in row if n%2==0]\n",
    " \n",
    "print(flatten)"
   ]
  },
  {
   "cell_type": "markdown",
   "metadata": {
    "colab_type": "text",
    "id": "9kAz9Pw9NrKn"
   },
   "source": [
    "### Nested list comprehensions"
   ]
  },
  {
   "cell_type": "code",
   "execution_count": 60,
   "metadata": {
    "colab": {},
    "colab_type": "code",
    "id": "yZcbroKdMI9X"
   },
   "outputs": [
    {
     "name": "stdout",
     "output_type": "stream",
     "text": [
      "[[1, 5, 9], [2, 6, 10], [3, 7, 11], [4, 8, 12]]\n"
     ]
    }
   ],
   "source": [
    "matrix = [\n",
    "    [1, 2, 3, 4],\n",
    "    [5, 6, 7, 8],\n",
    "    [9, 10, 11, 12],\n",
    "]\n",
    " \n",
    "transpose = [[row[n] for row in matrix] for n in range(4)]\n",
    " \n",
    "print(transpose)"
   ]
  },
  {
   "cell_type": "markdown",
   "metadata": {
    "colab_type": "text",
    "id": "RqXeK4cKdHyx"
   },
   "source": [
    "### Exercise 6:\n",
    "\n",
    "Define a function `avg1()` that takes a list consisting of a person's name (`str`) and then only numbers, then calculates and returns the average of those numbers.\n",
    "\n",
    "For example:\n",
    "```python\n",
    "avg1 (['Mateo', 5.0, 2.0, 2.0])\n",
    "``` \n",
    "should return 3, as it is the result of performing the following operation: `((5 + 2 + 2) / 3))`."
   ]
  },
  {
   "cell_type": "code",
   "execution_count": 61,
   "metadata": {
    "colab": {},
    "colab_type": "code",
    "id": "hRdoA366dpAg"
   },
   "outputs": [],
   "source": [
    "# Your code ..."
   ]
  },
  {
   "cell_type": "markdown",
   "metadata": {
    "colab_type": "text",
    "id": "0u78C5UsdxP_"
   },
   "source": [
    "### Exercise 7:\n",
    "\n",
    "Use list comprehension to apply the `avg1()` function defined above to each record in `data_recs`:\n",
    "\n",
    "```python\n",
    "data_recs = [\n",
    "  [ \"Juan\" ,  5.0, 2.0, 2.0 ],\n",
    "  [ \"Maria\",  7.0, 8.0, 3.0 ], \n",
    "  [ \"Mateo\",  1.0, 4.0, 4.0 ],     \n",
    "]\n",
    "````"
   ]
  },
  {
   "cell_type": "code",
   "execution_count": 62,
   "metadata": {
    "colab": {},
    "colab_type": "code",
    "id": "WR9gxkcOdwC1"
   },
   "outputs": [],
   "source": [
    "# Your code ..."
   ]
  },
  {
   "cell_type": "markdown",
   "metadata": {
    "colab_type": "text",
    "id": "V64E5XkRPEK-"
   },
   "source": [
    "## Modules and packages\n",
    "\n",
    "**Modules** are files that can be **imported** by other scripts, which in turn can use the functionality included in those modules. This allows one to avoid \"reinventing the wheel\" and take advantage of previous work that was done in Python. Modules can be orgaized into **packages**.\n",
    "\n",
    "We can create our own modules or packages, or use some already created by others and that are available for use.\n",
    "\n",
    "To install a package in Python, do the following:\n",
    "\n",
    "```python\n",
    "pip install pandas\n",
    "```\n",
    "\n",
    "If you want to install the package:\n",
    "\n",
    "```python\n",
    "pip uninstall pandas\n",
    "```"
   ]
  },
  {
   "cell_type": "code",
   "execution_count": 63,
   "metadata": {
    "colab": {},
    "colab_type": "code",
    "id": "uM4IjrYB4-I2"
   },
   "outputs": [
    {
     "name": "stdout",
     "output_type": "stream",
     "text": [
      "Requirement already satisfied: pandas in /opt/conda/lib/python3.6/site-packages (0.23.4)\r\n",
      "Requirement already satisfied: numpy>=1.9.0 in /opt/conda/lib/python3.6/site-packages (from pandas) (1.13.3)\r\n",
      "Requirement already satisfied: python-dateutil>=2.5.0 in /opt/conda/lib/python3.6/site-packages (from pandas) (2.7.5)\r\n",
      "Requirement already satisfied: pytz>=2011k in /opt/conda/lib/python3.6/site-packages (from pandas) (2018.7)\r\n",
      "Requirement already satisfied: six>=1.5 in /opt/conda/lib/python3.6/site-packages (from python-dateutil>=2.5.0->pandas) (1.12.0)\r\n"
     ]
    }
   ],
   "source": [
    "!pip install pandas"
   ]
  },
  {
   "cell_type": "code",
   "execution_count": 64,
   "metadata": {
    "colab": {},
    "colab_type": "code",
    "id": "-B9kluio5Okd"
   },
   "outputs": [
    {
     "name": "stdout",
     "output_type": "stream",
     "text": [
      " Datasets\t\t'Python Fundamentals Part II.ipynb'   temp\r\n",
      " pandas_bootcamp.ipynb\t'Python Fundamentals Part I.ipynb'\r\n"
     ]
    }
   ],
   "source": [
    "!ls"
   ]
  },
  {
   "cell_type": "code",
   "execution_count": 65,
   "metadata": {
    "colab": {},
    "colab_type": "code",
    "id": "QU89EhF-5pqA"
   },
   "outputs": [
    {
     "name": "stdout",
     "output_type": "stream",
     "text": [
      "mkdir: cannot create directory ‘temp’: File exists\r\n"
     ]
    }
   ],
   "source": [
    "!mkdir temp"
   ]
  },
  {
   "cell_type": "markdown",
   "metadata": {
    "colab_type": "text",
    "id": "IOVKRhDzQ-YV"
   },
   "source": [
    "## Other essential modules\n",
    "\n",
    "The following is a list of Python modules that you will use extremely often in your own work:"
   ]
  },
  {
   "cell_type": "markdown",
   "metadata": {
    "colab_type": "text",
    "id": "Hj0RjhH3ZNud"
   },
   "source": [
    "### `collections`\n",
    "\n",
    "This adds specific functionalities to lists:"
   ]
  },
  {
   "cell_type": "code",
   "execution_count": 66,
   "metadata": {
    "colab": {},
    "colab_type": "code",
    "id": "ruIp3K95NxpY"
   },
   "outputs": [
    {
     "data": {
      "text/plain": [
       "Counter({1: 4, 2: 3, 3: 2, 4: 1})"
      ]
     },
     "execution_count": 66,
     "metadata": {},
     "output_type": "execute_result"
    }
   ],
   "source": [
    "# Counts the number of instances of each value in a list\n",
    "from collections import Counter\n",
    "\n",
    "l = [1,2,3,4,1,2,3,1,2,1]\n",
    "Counter(l)"
   ]
  },
  {
   "cell_type": "code",
   "execution_count": 67,
   "metadata": {
    "colab": {},
    "colab_type": "code",
    "id": "Ox_LPFQcQHK3"
   },
   "outputs": [
    {
     "name": "stdout",
     "output_type": "stream",
     "text": [
      "Counter({'perro': 3, 'canario': 2, 'gato': 1})\n"
     ]
    }
   ],
   "source": [
    "# Splits a string into its constituent \"words\" before counting them\n",
    "animales = \"gato perro canario perro canario perro\"\n",
    "c = Counter(animales.split())\n",
    "print(c)"
   ]
  },
  {
   "cell_type": "markdown",
   "metadata": {
    "colab_type": "text",
    "id": "O1jt3F0HVTHT"
   },
   "source": [
    "### `datetime`\n",
    "\n",
    "This is used to handle dates and times:"
   ]
  },
  {
   "cell_type": "code",
   "execution_count": 68,
   "metadata": {
    "colab": {},
    "colab_type": "code",
    "id": "fbQfzFwMUzpL"
   },
   "outputs": [
    {
     "name": "stdout",
     "output_type": "stream",
     "text": [
      "2020-11-26 23:59:23.056173\n",
      "2020\n",
      "11\n",
      "26\n",
      "23\n",
      "59\n",
      "23\n",
      "56173\n",
      "23:59:23\n",
      "26/11/2020\n"
     ]
    }
   ],
   "source": [
    "from datetime import datetime\n",
    "\n",
    "dt = datetime.now ()   # Current date and time\n",
    "\n",
    "print (dt)\n",
    "print (dt.year)        # year\n",
    "print (dt.month)       # month\n",
    "print (dt.day)         # day\n",
    "\n",
    "print (dt.hour)        # hour\n",
    "print (dt.minute)      # minutes\n",
    "print (dt.second)      # seconds\n",
    "print (dt.microsecond) # microseconds\n",
    "\n",
    "print(\"{}:{}:{}\".format(dt.hour, dt.minute, dt.second))\n",
    "print(\"{}/{}/{}\".format(dt.day, dt.month, dt.year))"
   ]
  },
  {
   "cell_type": "code",
   "execution_count": 69,
   "metadata": {
    "colab": {},
    "colab_type": "code",
    "id": "TjH6nk3cV0Ok"
   },
   "outputs": [
    {
     "name": "stdout",
     "output_type": "stream",
     "text": [
      "Thursday 26 de Nov del 20 - 23:59\n"
     ]
    }
   ],
   "source": [
    "from datetime import datetime, timedelta\n",
    "\n",
    "dt = datetime.now()\n",
    "print(dt.strftime(\"%A %d de %b del %y - %H:%M\"))"
   ]
  },
  {
   "cell_type": "code",
   "execution_count": 70,
   "metadata": {
    "colab": {},
    "colab_type": "code",
    "id": "dvPDZUI48B-0"
   },
   "outputs": [
    {
     "name": "stdout",
     "output_type": "stream",
     "text": [
      "Friday 11 de December del 2020 - 04:16\n",
      "Thursday 12 de November del 2020 - 19:42\n"
     ]
    }
   ],
   "source": [
    "# We generate 14 days with 4 hours and 1000 seconds of time\n",
    "t = timedelta(days=14, hours=4, seconds=1000)\n",
    "\n",
    "# We operate it with the datetime of the current date and time\n",
    "in_two_weeks = dt + t\n",
    "print(in_two_weeks.strftime(\"%A %d de %B del %Y - %H:%M\"))\n",
    "two_weeks_ago = dt - t\n",
    "print(two_weeks_ago.strftime(\"%A %d de %B del %Y - %H:%M\"))"
   ]
  },
  {
   "cell_type": "markdown",
   "metadata": {
    "colab_type": "text",
    "id": "ipNj14XIVX3b"
   },
   "source": [
    "### `math`\n",
    "\n",
    "This module includes many standard mathematical functions:"
   ]
  },
  {
   "cell_type": "code",
   "execution_count": 71,
   "metadata": {
    "colab": {},
    "colab_type": "code",
    "id": "JtXisqlxWNkY"
   },
   "outputs": [
    {
     "name": "stdout",
     "output_type": "stream",
     "text": [
      "3\n",
      "4\n"
     ]
    }
   ],
   "source": [
    "import math\n",
    "\n",
    "print(math.floor(3.99)) # Round down (ground)\n",
    "print(math.ceil(3.01))  # Round up (ceiling)"
   ]
  },
  {
   "cell_type": "code",
   "execution_count": 72,
   "metadata": {
    "colab": {},
    "colab_type": "code",
    "id": "j9j31YJlWVaB"
   },
   "outputs": [
    {
     "name": "stdout",
     "output_type": "stream",
     "text": [
      "3.141592653589793\n",
      "2.718281828459045\n"
     ]
    }
   ],
   "source": [
    "print(math.pi)  # pi Constant\n",
    "print(math.e)   # e Constant "
   ]
  },
  {
   "cell_type": "markdown",
   "metadata": {
    "colab_type": "text",
    "id": "05h-L9L0WioU"
   },
   "source": [
    "### `random`\n",
    "\n",
    "This is used to generate random numbers in various ways:"
   ]
  },
  {
   "cell_type": "code",
   "execution_count": 73,
   "metadata": {
    "colab": {},
    "colab_type": "code",
    "id": "HcYYb7QLWohZ"
   },
   "outputs": [
    {
     "name": "stdout",
     "output_type": "stream",
     "text": [
      "0.8826182158085081\n",
      "9.374043371307428\n",
      "7\n",
      "2\n",
      "50\n",
      "30\n"
     ]
    }
   ],
   "source": [
    "import random\n",
    "\n",
    "# Random float >=0 and < 1\n",
    "print(random.random())      \n",
    "\n",
    "# Random float >=1 and < 10     \n",
    "print(random.uniform(1,10))\n",
    "\n",
    "# Random integer from 0 to 9, inclusive\n",
    "print(random.randrange(10))\n",
    "\n",
    "# Random integer from 0 to 100, inclusive\n",
    "print(random.randrange(0,101))\n",
    "\n",
    "# Random even integer from 0 to 100, inclusive\n",
    "print(random.randrange(0,101,2))\n",
    "\n",
    "# Random multiple of 5 from 0 to 100, inclusive\n",
    "print(random.randrange(0,101,5))"
   ]
  },
  {
   "cell_type": "markdown",
   "metadata": {},
   "source": [
    "You can use the `help()` function to give you more guidance on how to use this (or any) module:"
   ]
  },
  {
   "cell_type": "code",
   "execution_count": 74,
   "metadata": {
    "colab": {},
    "colab_type": "code",
    "id": "_g2zGNjV-Fu9"
   },
   "outputs": [
    {
     "name": "stdout",
     "output_type": "stream",
     "text": [
      "Help on module random:\n",
      "\n",
      "NAME\n",
      "    random - Random variable generators.\n",
      "\n",
      "MODULE REFERENCE\n",
      "    https://docs.python.org/3.6/library/random\n",
      "    \n",
      "    The following documentation is automatically generated from the Python\n",
      "    source files.  It may be incomplete, incorrect or include features that\n",
      "    are considered implementation detail and may vary between Python\n",
      "    implementations.  When in doubt, consult the module reference at the\n",
      "    location listed above.\n",
      "\n",
      "DESCRIPTION\n",
      "        integers\n",
      "        --------\n",
      "               uniform within range\n",
      "    \n",
      "        sequences\n",
      "        ---------\n",
      "               pick random element\n",
      "               pick random sample\n",
      "               pick weighted random sample\n",
      "               generate random permutation\n",
      "    \n",
      "        distributions on the real line:\n",
      "        ------------------------------\n",
      "               uniform\n",
      "               triangular\n",
      "               normal (Gaussian)\n",
      "               lognormal\n",
      "               negative exponential\n",
      "               gamma\n",
      "               beta\n",
      "               pareto\n",
      "               Weibull\n",
      "    \n",
      "        distributions on the circle (angles 0 to 2pi)\n",
      "        ---------------------------------------------\n",
      "               circular uniform\n",
      "               von Mises\n",
      "    \n",
      "    General notes on the underlying Mersenne Twister core generator:\n",
      "    \n",
      "    * The period is 2**19937-1.\n",
      "    * It is one of the most extensively tested generators in existence.\n",
      "    * The random() method is implemented in C, executes in a single Python step,\n",
      "      and is, therefore, threadsafe.\n",
      "\n",
      "CLASSES\n",
      "    _random.Random(builtins.object)\n",
      "        Random\n",
      "            SystemRandom\n",
      "    \n",
      "    class Random(_random.Random)\n",
      "     |  Random number generator base class used by bound module functions.\n",
      "     |  \n",
      "     |  Used to instantiate instances of Random to get generators that don't\n",
      "     |  share state.\n",
      "     |  \n",
      "     |  Class Random can also be subclassed if you want to use a different basic\n",
      "     |  generator of your own devising: in that case, override the following\n",
      "     |  methods:  random(), seed(), getstate(), and setstate().\n",
      "     |  Optionally, implement a getrandbits() method so that randrange()\n",
      "     |  can cover arbitrarily large ranges.\n",
      "     |  \n",
      "     |  Method resolution order:\n",
      "     |      Random\n",
      "     |      _random.Random\n",
      "     |      builtins.object\n",
      "     |  \n",
      "     |  Methods defined here:\n",
      "     |  \n",
      "     |  __getstate__(self)\n",
      "     |      # Issue 17489: Since __reduce__ was defined to fix #759889 this is no\n",
      "     |      # longer called; we leave it here because it has been here since random was\n",
      "     |      # rewritten back in 2001 and why risk breaking something.\n",
      "     |  \n",
      "     |  __init__(self, x=None)\n",
      "     |      Initialize an instance.\n",
      "     |      \n",
      "     |      Optional argument x controls seeding, as for Random.seed().\n",
      "     |  \n",
      "     |  __reduce__(self)\n",
      "     |      helper for pickle\n",
      "     |  \n",
      "     |  __setstate__(self, state)\n",
      "     |  \n",
      "     |  betavariate(self, alpha, beta)\n",
      "     |      Beta distribution.\n",
      "     |      \n",
      "     |      Conditions on the parameters are alpha > 0 and beta > 0.\n",
      "     |      Returned values range between 0 and 1.\n",
      "     |  \n",
      "     |  choice(self, seq)\n",
      "     |      Choose a random element from a non-empty sequence.\n",
      "     |  \n",
      "     |  choices(self, population, weights=None, *, cum_weights=None, k=1)\n",
      "     |      Return a k sized list of population elements chosen with replacement.\n",
      "     |      \n",
      "     |      If the relative weights or cumulative weights are not specified,\n",
      "     |      the selections are made with equal probability.\n",
      "     |  \n",
      "     |  expovariate(self, lambd)\n",
      "     |      Exponential distribution.\n",
      "     |      \n",
      "     |      lambd is 1.0 divided by the desired mean.  It should be\n",
      "     |      nonzero.  (The parameter would be called \"lambda\", but that is\n",
      "     |      a reserved word in Python.)  Returned values range from 0 to\n",
      "     |      positive infinity if lambd is positive, and from negative\n",
      "     |      infinity to 0 if lambd is negative.\n",
      "     |  \n",
      "     |  gammavariate(self, alpha, beta)\n",
      "     |      Gamma distribution.  Not the gamma function!\n",
      "     |      \n",
      "     |      Conditions on the parameters are alpha > 0 and beta > 0.\n",
      "     |      \n",
      "     |      The probability distribution function is:\n",
      "     |      \n",
      "     |                  x ** (alpha - 1) * math.exp(-x / beta)\n",
      "     |        pdf(x) =  --------------------------------------\n",
      "     |                    math.gamma(alpha) * beta ** alpha\n",
      "     |  \n",
      "     |  gauss(self, mu, sigma)\n",
      "     |      Gaussian distribution.\n",
      "     |      \n",
      "     |      mu is the mean, and sigma is the standard deviation.  This is\n",
      "     |      slightly faster than the normalvariate() function.\n",
      "     |      \n",
      "     |      Not thread-safe without a lock around calls.\n",
      "     |  \n",
      "     |  getstate(self)\n",
      "     |      Return internal state; can be passed to setstate() later.\n",
      "     |  \n",
      "     |  lognormvariate(self, mu, sigma)\n",
      "     |      Log normal distribution.\n",
      "     |      \n",
      "     |      If you take the natural logarithm of this distribution, you'll get a\n",
      "     |      normal distribution with mean mu and standard deviation sigma.\n",
      "     |      mu can have any value, and sigma must be greater than zero.\n",
      "     |  \n",
      "     |  normalvariate(self, mu, sigma)\n",
      "     |      Normal distribution.\n",
      "     |      \n",
      "     |      mu is the mean, and sigma is the standard deviation.\n",
      "     |  \n",
      "     |  paretovariate(self, alpha)\n",
      "     |      Pareto distribution.  alpha is the shape parameter.\n",
      "     |  \n",
      "     |  randint(self, a, b)\n",
      "     |      Return random integer in range [a, b], including both end points.\n",
      "     |  \n",
      "     |  randrange(self, start, stop=None, step=1, _int=<class 'int'>)\n",
      "     |      Choose a random item from range(start, stop[, step]).\n",
      "     |      \n",
      "     |      This fixes the problem with randint() which includes the\n",
      "     |      endpoint; in Python this is usually not what you want.\n",
      "     |  \n",
      "     |  sample(self, population, k)\n",
      "     |      Chooses k unique random elements from a population sequence or set.\n",
      "     |      \n",
      "     |      Returns a new list containing elements from the population while\n",
      "     |      leaving the original population unchanged.  The resulting list is\n",
      "     |      in selection order so that all sub-slices will also be valid random\n",
      "     |      samples.  This allows raffle winners (the sample) to be partitioned\n",
      "     |      into grand prize and second place winners (the subslices).\n",
      "     |      \n",
      "     |      Members of the population need not be hashable or unique.  If the\n",
      "     |      population contains repeats, then each occurrence is a possible\n",
      "     |      selection in the sample.\n",
      "     |      \n",
      "     |      To choose a sample in a range of integers, use range as an argument.\n",
      "     |      This is especially fast and space efficient for sampling from a\n",
      "     |      large population:   sample(range(10000000), 60)\n",
      "     |  \n",
      "     |  seed(self, a=None, version=2)\n",
      "     |      Initialize internal state from hashable object.\n",
      "     |      \n",
      "     |      None or no argument seeds from current time or from an operating\n",
      "     |      system specific randomness source if available.\n",
      "     |      \n",
      "     |      If *a* is an int, all bits are used.\n",
      "     |      \n",
      "     |      For version 2 (the default), all of the bits are used if *a* is a str,\n",
      "     |      bytes, or bytearray.  For version 1 (provided for reproducing random\n",
      "     |      sequences from older versions of Python), the algorithm for str and\n",
      "     |      bytes generates a narrower range of seeds.\n",
      "     |  \n",
      "     |  setstate(self, state)\n",
      "     |      Restore internal state from object returned by getstate().\n",
      "     |  \n",
      "     |  shuffle(self, x, random=None)\n",
      "     |      Shuffle list x in place, and return None.\n",
      "     |      \n",
      "     |      Optional argument random is a 0-argument function returning a\n",
      "     |      random float in [0.0, 1.0); if it is the default None, the\n",
      "     |      standard random.random will be used.\n",
      "     |  \n",
      "     |  triangular(self, low=0.0, high=1.0, mode=None)\n",
      "     |      Triangular distribution.\n",
      "     |      \n",
      "     |      Continuous distribution bounded by given lower and upper limits,\n",
      "     |      and having a given mode value in-between.\n",
      "     |      \n",
      "     |      http://en.wikipedia.org/wiki/Triangular_distribution\n",
      "     |  \n",
      "     |  uniform(self, a, b)\n",
      "     |      Get a random number in the range [a, b) or [a, b] depending on rounding.\n",
      "     |  \n",
      "     |  vonmisesvariate(self, mu, kappa)\n",
      "     |      Circular data distribution.\n",
      "     |      \n",
      "     |      mu is the mean angle, expressed in radians between 0 and 2*pi, and\n",
      "     |      kappa is the concentration parameter, which must be greater than or\n",
      "     |      equal to zero.  If kappa is equal to zero, this distribution reduces\n",
      "     |      to a uniform random angle over the range 0 to 2*pi.\n",
      "     |  \n",
      "     |  weibullvariate(self, alpha, beta)\n",
      "     |      Weibull distribution.\n",
      "     |      \n",
      "     |      alpha is the scale parameter and beta is the shape parameter.\n",
      "     |  \n",
      "     |  ----------------------------------------------------------------------\n",
      "     |  Data descriptors defined here:\n",
      "     |  \n",
      "     |  __dict__\n",
      "     |      dictionary for instance variables (if defined)\n",
      "     |  \n",
      "     |  __weakref__\n",
      "     |      list of weak references to the object (if defined)\n",
      "     |  \n",
      "     |  ----------------------------------------------------------------------\n",
      "     |  Data and other attributes defined here:\n",
      "     |  \n",
      "     |  VERSION = 3\n",
      "     |  \n",
      "     |  ----------------------------------------------------------------------\n",
      "     |  Methods inherited from _random.Random:\n",
      "     |  \n",
      "     |  __getattribute__(self, name, /)\n",
      "     |      Return getattr(self, name).\n",
      "     |  \n",
      "     |  __new__(*args, **kwargs) from builtins.type\n",
      "     |      Create and return a new object.  See help(type) for accurate signature.\n",
      "     |  \n",
      "     |  getrandbits(...)\n",
      "     |      getrandbits(k) -> x.  Generates an int with k random bits.\n",
      "     |  \n",
      "     |  random(...)\n",
      "     |      random() -> x in the interval [0, 1).\n",
      "    \n",
      "    class SystemRandom(Random)\n",
      "     |  Alternate random number generator using sources provided\n",
      "     |  by the operating system (such as /dev/urandom on Unix or\n",
      "     |  CryptGenRandom on Windows).\n",
      "     |  \n",
      "     |   Not available on all systems (see os.urandom() for details).\n",
      "     |  \n",
      "     |  Method resolution order:\n",
      "     |      SystemRandom\n",
      "     |      Random\n",
      "     |      _random.Random\n",
      "     |      builtins.object\n",
      "     |  \n",
      "     |  Methods defined here:\n",
      "     |  \n",
      "     |  getrandbits(self, k)\n",
      "     |      getrandbits(k) -> x.  Generates an int with k random bits.\n",
      "     |  \n",
      "     |  getstate = _notimplemented(self, *args, **kwds)\n",
      "     |  \n",
      "     |  random(self)\n",
      "     |      Get the next random number in the range [0.0, 1.0).\n",
      "     |  \n",
      "     |  seed(self, *args, **kwds)\n",
      "     |      Stub method.  Not used for a system random number generator.\n",
      "     |  \n",
      "     |  setstate = _notimplemented(self, *args, **kwds)\n",
      "     |  \n",
      "     |  ----------------------------------------------------------------------\n",
      "     |  Methods inherited from Random:\n",
      "     |  \n",
      "     |  __getstate__(self)\n",
      "     |      # Issue 17489: Since __reduce__ was defined to fix #759889 this is no\n",
      "     |      # longer called; we leave it here because it has been here since random was\n",
      "     |      # rewritten back in 2001 and why risk breaking something.\n",
      "     |  \n",
      "     |  __init__(self, x=None)\n",
      "     |      Initialize an instance.\n",
      "     |      \n",
      "     |      Optional argument x controls seeding, as for Random.seed().\n",
      "     |  \n",
      "     |  __reduce__(self)\n",
      "     |      helper for pickle\n",
      "     |  \n",
      "     |  __setstate__(self, state)\n",
      "     |  \n",
      "     |  betavariate(self, alpha, beta)\n",
      "     |      Beta distribution.\n",
      "     |      \n",
      "     |      Conditions on the parameters are alpha > 0 and beta > 0.\n",
      "     |      Returned values range between 0 and 1.\n",
      "     |  \n",
      "     |  choice(self, seq)\n",
      "     |      Choose a random element from a non-empty sequence.\n",
      "     |  \n",
      "     |  choices(self, population, weights=None, *, cum_weights=None, k=1)\n",
      "     |      Return a k sized list of population elements chosen with replacement.\n",
      "     |      \n",
      "     |      If the relative weights or cumulative weights are not specified,\n",
      "     |      the selections are made with equal probability.\n",
      "     |  \n",
      "     |  expovariate(self, lambd)\n",
      "     |      Exponential distribution.\n",
      "     |      \n",
      "     |      lambd is 1.0 divided by the desired mean.  It should be\n",
      "     |      nonzero.  (The parameter would be called \"lambda\", but that is\n",
      "     |      a reserved word in Python.)  Returned values range from 0 to\n",
      "     |      positive infinity if lambd is positive, and from negative\n",
      "     |      infinity to 0 if lambd is negative.\n",
      "     |  \n",
      "     |  gammavariate(self, alpha, beta)\n",
      "     |      Gamma distribution.  Not the gamma function!\n",
      "     |      \n",
      "     |      Conditions on the parameters are alpha > 0 and beta > 0.\n",
      "     |      \n",
      "     |      The probability distribution function is:\n",
      "     |      \n",
      "     |                  x ** (alpha - 1) * math.exp(-x / beta)\n",
      "     |        pdf(x) =  --------------------------------------\n",
      "     |                    math.gamma(alpha) * beta ** alpha\n",
      "     |  \n",
      "     |  gauss(self, mu, sigma)\n",
      "     |      Gaussian distribution.\n",
      "     |      \n",
      "     |      mu is the mean, and sigma is the standard deviation.  This is\n",
      "     |      slightly faster than the normalvariate() function.\n",
      "     |      \n",
      "     |      Not thread-safe without a lock around calls.\n",
      "     |  \n",
      "     |  lognormvariate(self, mu, sigma)\n",
      "     |      Log normal distribution.\n",
      "     |      \n",
      "     |      If you take the natural logarithm of this distribution, you'll get a\n",
      "     |      normal distribution with mean mu and standard deviation sigma.\n",
      "     |      mu can have any value, and sigma must be greater than zero.\n",
      "     |  \n",
      "     |  normalvariate(self, mu, sigma)\n",
      "     |      Normal distribution.\n",
      "     |      \n",
      "     |      mu is the mean, and sigma is the standard deviation.\n",
      "     |  \n",
      "     |  paretovariate(self, alpha)\n",
      "     |      Pareto distribution.  alpha is the shape parameter.\n",
      "     |  \n",
      "     |  randint(self, a, b)\n",
      "     |      Return random integer in range [a, b], including both end points.\n",
      "     |  \n",
      "     |  randrange(self, start, stop=None, step=1, _int=<class 'int'>)\n",
      "     |      Choose a random item from range(start, stop[, step]).\n",
      "     |      \n",
      "     |      This fixes the problem with randint() which includes the\n",
      "     |      endpoint; in Python this is usually not what you want.\n",
      "     |  \n",
      "     |  sample(self, population, k)\n",
      "     |      Chooses k unique random elements from a population sequence or set.\n",
      "     |      \n",
      "     |      Returns a new list containing elements from the population while\n",
      "     |      leaving the original population unchanged.  The resulting list is\n",
      "     |      in selection order so that all sub-slices will also be valid random\n",
      "     |      samples.  This allows raffle winners (the sample) to be partitioned\n",
      "     |      into grand prize and second place winners (the subslices).\n",
      "     |      \n",
      "     |      Members of the population need not be hashable or unique.  If the\n",
      "     |      population contains repeats, then each occurrence is a possible\n",
      "     |      selection in the sample.\n",
      "     |      \n",
      "     |      To choose a sample in a range of integers, use range as an argument.\n",
      "     |      This is especially fast and space efficient for sampling from a\n",
      "     |      large population:   sample(range(10000000), 60)\n",
      "     |  \n",
      "     |  shuffle(self, x, random=None)\n",
      "     |      Shuffle list x in place, and return None.\n",
      "     |      \n",
      "     |      Optional argument random is a 0-argument function returning a\n",
      "     |      random float in [0.0, 1.0); if it is the default None, the\n",
      "     |      standard random.random will be used.\n",
      "     |  \n",
      "     |  triangular(self, low=0.0, high=1.0, mode=None)\n",
      "     |      Triangular distribution.\n",
      "     |      \n",
      "     |      Continuous distribution bounded by given lower and upper limits,\n",
      "     |      and having a given mode value in-between.\n",
      "     |      \n",
      "     |      http://en.wikipedia.org/wiki/Triangular_distribution\n",
      "     |  \n",
      "     |  uniform(self, a, b)\n",
      "     |      Get a random number in the range [a, b) or [a, b] depending on rounding.\n",
      "     |  \n",
      "     |  vonmisesvariate(self, mu, kappa)\n",
      "     |      Circular data distribution.\n",
      "     |      \n",
      "     |      mu is the mean angle, expressed in radians between 0 and 2*pi, and\n",
      "     |      kappa is the concentration parameter, which must be greater than or\n",
      "     |      equal to zero.  If kappa is equal to zero, this distribution reduces\n",
      "     |      to a uniform random angle over the range 0 to 2*pi.\n",
      "     |  \n",
      "     |  weibullvariate(self, alpha, beta)\n",
      "     |      Weibull distribution.\n",
      "     |      \n",
      "     |      alpha is the scale parameter and beta is the shape parameter.\n",
      "     |  \n",
      "     |  ----------------------------------------------------------------------\n",
      "     |  Data descriptors inherited from Random:\n",
      "     |  \n",
      "     |  __dict__\n",
      "     |      dictionary for instance variables (if defined)\n",
      "     |  \n",
      "     |  __weakref__\n",
      "     |      list of weak references to the object (if defined)\n",
      "     |  \n",
      "     |  ----------------------------------------------------------------------\n",
      "     |  Data and other attributes inherited from Random:\n",
      "     |  \n",
      "     |  VERSION = 3\n",
      "     |  \n",
      "     |  ----------------------------------------------------------------------\n",
      "     |  Methods inherited from _random.Random:\n",
      "     |  \n",
      "     |  __getattribute__(self, name, /)\n",
      "     |      Return getattr(self, name).\n",
      "     |  \n",
      "     |  __new__(*args, **kwargs) from builtins.type\n",
      "     |      Create and return a new object.  See help(type) for accurate signature.\n",
      "\n",
      "FUNCTIONS\n",
      "    betavariate(alpha, beta) method of Random instance\n",
      "        Beta distribution.\n",
      "        \n",
      "        Conditions on the parameters are alpha > 0 and beta > 0.\n",
      "        Returned values range between 0 and 1.\n",
      "    \n",
      "    choice(seq) method of Random instance\n",
      "        Choose a random element from a non-empty sequence.\n",
      "    \n",
      "    choices(population, weights=None, *, cum_weights=None, k=1) method of Random instance\n",
      "        Return a k sized list of population elements chosen with replacement.\n",
      "        \n",
      "        If the relative weights or cumulative weights are not specified,\n",
      "        the selections are made with equal probability.\n",
      "    \n",
      "    expovariate(lambd) method of Random instance\n",
      "        Exponential distribution.\n",
      "        \n",
      "        lambd is 1.0 divided by the desired mean.  It should be\n",
      "        nonzero.  (The parameter would be called \"lambda\", but that is\n",
      "        a reserved word in Python.)  Returned values range from 0 to\n",
      "        positive infinity if lambd is positive, and from negative\n",
      "        infinity to 0 if lambd is negative.\n",
      "    \n",
      "    gammavariate(alpha, beta) method of Random instance\n",
      "        Gamma distribution.  Not the gamma function!\n",
      "        \n",
      "        Conditions on the parameters are alpha > 0 and beta > 0.\n",
      "        \n",
      "        The probability distribution function is:\n",
      "        \n",
      "                    x ** (alpha - 1) * math.exp(-x / beta)\n",
      "          pdf(x) =  --------------------------------------\n",
      "                      math.gamma(alpha) * beta ** alpha\n",
      "    \n",
      "    gauss(mu, sigma) method of Random instance\n",
      "        Gaussian distribution.\n",
      "        \n",
      "        mu is the mean, and sigma is the standard deviation.  This is\n",
      "        slightly faster than the normalvariate() function.\n",
      "        \n",
      "        Not thread-safe without a lock around calls.\n",
      "    \n",
      "    getrandbits(...) method of Random instance\n",
      "        getrandbits(k) -> x.  Generates an int with k random bits.\n",
      "    \n",
      "    getstate() method of Random instance\n",
      "        Return internal state; can be passed to setstate() later.\n",
      "    \n",
      "    lognormvariate(mu, sigma) method of Random instance\n",
      "        Log normal distribution.\n",
      "        \n",
      "        If you take the natural logarithm of this distribution, you'll get a\n",
      "        normal distribution with mean mu and standard deviation sigma.\n",
      "        mu can have any value, and sigma must be greater than zero.\n",
      "    \n",
      "    normalvariate(mu, sigma) method of Random instance\n",
      "        Normal distribution.\n",
      "        \n",
      "        mu is the mean, and sigma is the standard deviation.\n",
      "    \n",
      "    paretovariate(alpha) method of Random instance\n",
      "        Pareto distribution.  alpha is the shape parameter.\n",
      "    \n",
      "    randint(a, b) method of Random instance\n",
      "        Return random integer in range [a, b], including both end points.\n",
      "    \n",
      "    random(...) method of Random instance\n",
      "        random() -> x in the interval [0, 1).\n",
      "    \n",
      "    randrange(start, stop=None, step=1, _int=<class 'int'>) method of Random instance\n",
      "        Choose a random item from range(start, stop[, step]).\n",
      "        \n",
      "        This fixes the problem with randint() which includes the\n",
      "        endpoint; in Python this is usually not what you want.\n",
      "    \n",
      "    sample(population, k) method of Random instance\n",
      "        Chooses k unique random elements from a population sequence or set.\n",
      "        \n",
      "        Returns a new list containing elements from the population while\n",
      "        leaving the original population unchanged.  The resulting list is\n",
      "        in selection order so that all sub-slices will also be valid random\n",
      "        samples.  This allows raffle winners (the sample) to be partitioned\n",
      "        into grand prize and second place winners (the subslices).\n",
      "        \n",
      "        Members of the population need not be hashable or unique.  If the\n",
      "        population contains repeats, then each occurrence is a possible\n",
      "        selection in the sample.\n",
      "        \n",
      "        To choose a sample in a range of integers, use range as an argument.\n",
      "        This is especially fast and space efficient for sampling from a\n",
      "        large population:   sample(range(10000000), 60)\n",
      "    \n",
      "    seed(a=None, version=2) method of Random instance\n",
      "        Initialize internal state from hashable object.\n",
      "        \n",
      "        None or no argument seeds from current time or from an operating\n",
      "        system specific randomness source if available.\n",
      "        \n",
      "        If *a* is an int, all bits are used.\n",
      "        \n",
      "        For version 2 (the default), all of the bits are used if *a* is a str,\n",
      "        bytes, or bytearray.  For version 1 (provided for reproducing random\n",
      "        sequences from older versions of Python), the algorithm for str and\n",
      "        bytes generates a narrower range of seeds.\n",
      "    \n",
      "    setstate(state) method of Random instance\n",
      "        Restore internal state from object returned by getstate().\n",
      "    \n",
      "    shuffle(x, random=None) method of Random instance\n",
      "        Shuffle list x in place, and return None.\n",
      "        \n",
      "        Optional argument random is a 0-argument function returning a\n",
      "        random float in [0.0, 1.0); if it is the default None, the\n",
      "        standard random.random will be used.\n",
      "    \n",
      "    triangular(low=0.0, high=1.0, mode=None) method of Random instance\n",
      "        Triangular distribution.\n",
      "        \n",
      "        Continuous distribution bounded by given lower and upper limits,\n",
      "        and having a given mode value in-between.\n",
      "        \n",
      "        http://en.wikipedia.org/wiki/Triangular_distribution\n",
      "    \n",
      "    uniform(a, b) method of Random instance\n",
      "        Get a random number in the range [a, b) or [a, b] depending on rounding.\n",
      "    \n",
      "    vonmisesvariate(mu, kappa) method of Random instance\n",
      "        Circular data distribution.\n",
      "        \n",
      "        mu is the mean angle, expressed in radians between 0 and 2*pi, and\n",
      "        kappa is the concentration parameter, which must be greater than or\n",
      "        equal to zero.  If kappa is equal to zero, this distribution reduces\n",
      "        to a uniform random angle over the range 0 to 2*pi.\n",
      "    \n",
      "    weibullvariate(alpha, beta) method of Random instance\n",
      "        Weibull distribution.\n",
      "        \n",
      "        alpha is the scale parameter and beta is the shape parameter.\n",
      "\n",
      "DATA\n",
      "    __all__ = ['Random', 'seed', 'random', 'uniform', 'randint', 'choice',...\n",
      "\n",
      "FILE\n",
      "    /opt/conda/lib/python3.6/random.py\n",
      "\n",
      "\n"
     ]
    }
   ],
   "source": [
    "help(random)"
   ]
  },
  {
   "cell_type": "code",
   "execution_count": 75,
   "metadata": {
    "colab": {},
    "colab_type": "code",
    "id": "OTXQLEAxW7En"
   },
   "outputs": [
    {
     "name": "stdout",
     "output_type": "stream",
     "text": [
      "n\n",
      "2\n",
      "[2, 5]\n"
     ]
    }
   ],
   "source": [
    "# Random character\n",
    "print(random.choice('Hola mundo'))\n",
    "\n",
    "# Random element\n",
    "print(random.choice([1,2,3,4,5]))\n",
    "\n",
    "# Two random elements\n",
    "print(random.sample([1,2,3,4,5], 2))"
   ]
  },
  {
   "cell_type": "code",
   "execution_count": 76,
   "metadata": {
    "colab": {},
    "colab_type": "code",
    "id": "6H0nRvkSXACC"
   },
   "outputs": [
    {
     "name": "stdout",
     "output_type": "stream",
     "text": [
      "[5, 2, 3, 1, 4]\n"
     ]
    }
   ],
   "source": [
    "# Randomly scramble the elements of a list\n",
    "list1 = [1,2,3,4,5]\n",
    "random.shuffle(list1)\n",
    "print(list1)"
   ]
  },
  {
   "cell_type": "markdown",
   "metadata": {
    "colab_type": "text",
    "id": "buALHjIGWHGY"
   },
   "source": [
    "### `re`\n",
    "\n",
    "This module deals with **regular expressions**, which you will learn more about in a later case. These are especially useful when working with character strings. We show some examples here, but you don't need to know any of this now."
   ]
  },
  {
   "cell_type": "code",
   "execution_count": 77,
   "metadata": {
    "colab": {},
    "colab_type": "code",
    "id": "bu3r2ILAVG1T"
   },
   "outputs": [
    {
     "name": "stdout",
     "output_type": "stream",
     "text": [
      "Juan4 _Perez5_\n",
      "Juan_ _Perez_\n"
     ]
    }
   ],
   "source": [
    "import re\n",
    "regex1 = '[^A-Za-z0-9 ]+'\n",
    "regex2 = '[^A-Za-z ]+'\n",
    "string = 'Juan4 $Perez5%'\n",
    "print(re.sub(regex1, '_', string))\n",
    "print(re.sub(regex2, '_', string))"
   ]
  },
  {
   "cell_type": "markdown",
   "metadata": {
    "colab_type": "text",
    "id": "Z9BE1kOEWJAV"
   },
   "source": [
    "### `os` \n",
    "\n",
    "This includes functionalities dependent on the operating system:"
   ]
  },
  {
   "cell_type": "code",
   "execution_count": 78,
   "metadata": {
    "colab": {},
    "colab_type": "code",
    "id": "1UzzhRnVYNZe"
   },
   "outputs": [
    {
     "name": "stdout",
     "output_type": "stream",
     "text": [
      "/home/jovyan/work\n",
      "False\n"
     ]
    }
   ],
   "source": [
    "import os \n",
    "# Get the current directory\n",
    "print(os.getcwd())\n",
    "# Check if the directory exists\n",
    "print(os.path.exists('/content'))"
   ]
  },
  {
   "cell_type": "markdown",
   "metadata": {
    "colab_type": "text",
    "id": "7VCJrhsGYGzB"
   },
   "source": [
    "### `sys`\n",
    "\n",
    "This allows us to get information from the system environment:"
   ]
  },
  {
   "cell_type": "code",
   "execution_count": 79,
   "metadata": {
    "colab": {},
    "colab_type": "code",
    "id": "XVYQsUh-WKeQ"
   },
   "outputs": [
    {
     "name": "stdout",
     "output_type": "stream",
     "text": [
      "3.6.7 | packaged by conda-forge | (default, Nov 21 2018, 02:32:25) \n",
      "[GCC 4.8.2 20140120 (Red Hat 4.8.2-15)]\n",
      "linux\n"
     ]
    }
   ],
   "source": [
    "import sys\n",
    "#Return the Python version number\n",
    "print(sys.version)\n",
    "#Returns the platform on which the interpreter is running\n",
    "print(sys.platform)"
   ]
  },
  {
   "cell_type": "markdown",
   "metadata": {
    "colab_type": "text",
    "id": "vXI_AylSl_2B"
   },
   "source": [
    "### `csv`\n",
    "\n",
    "The CSV module has several functions and classes available to read and write CSVs. Here, we will read and look at the data from a CSV file. The file to be read from was taken from the open data of Traffic Accidents registered by the Mobility Secretariat of the Mayor's Office of Medellin, from 2014 to the current year. [Source](http://medata.gov.co/dataset/accidentalidad)"
   ]
  },
  {
   "cell_type": "code",
   "execution_count": 80,
   "metadata": {},
   "outputs": [
    {
     "name": "stdout",
     "output_type": "stream",
     "text": [
      " \u001b[0m\u001b[01;34mDatasets\u001b[0m/              'Python Fundamentals Part II.ipynb'   \u001b[01;34mtemp\u001b[0m/\r\n",
      " pandas_bootcamp.ipynb  'Python Fundamentals Part I.ipynb'\r\n"
     ]
    }
   ],
   "source": [
    "ls"
   ]
  },
  {
   "cell_type": "code",
   "execution_count": 81,
   "metadata": {
    "colab": {},
    "colab_type": "code",
    "id": "vRctOD8YlL5S"
   },
   "outputs": [],
   "source": [
    "from csv import reader\n",
    "opened_file = open('Datasets/accidents.csv') # File path if it fails it might be necessary to add encoding = \"utf-8\"\n",
    "read_file = reader(opened_file,delimiter=';')"
   ]
  },
  {
   "cell_type": "code",
   "execution_count": 82,
   "metadata": {
    "colab": {},
    "colab_type": "code",
    "id": "WiT_0uo6B6Oz"
   },
   "outputs": [
    {
     "data": {
      "text/plain": [
       "<_csv.reader at 0x7fe56c448f98>"
      ]
     },
     "execution_count": 82,
     "metadata": {},
     "output_type": "execute_result"
    }
   ],
   "source": [
    "read_file"
   ]
  },
  {
   "cell_type": "code",
   "execution_count": 83,
   "metadata": {
    "colab": {},
    "colab_type": "code",
    "id": "eUtY2qiOmfnu"
   },
   "outputs": [
    {
     "data": {
      "text/plain": [
       "[['@timestamp',\n",
       "  'CBML',\n",
       "  'EXPEDIENTE',\n",
       "  'tipo',\n",
       "  'Direccion encasillada',\n",
       "  'CLASE_ACCIDENTE',\n",
       "  'location',\n",
       "  'Mes',\n",
       "  'Año',\n",
       "  'comuna',\n",
       "  'tags',\n",
       "  'DIRECCION',\n",
       "  'host',\n",
       "  'path',\n",
       "  'Numcomuna',\n",
       "  'Diseño',\n",
       "  'barrio',\n",
       "  'GRAVEDAD_ACCIDENTE',\n",
       "  'FECHA_ACCIDENTE',\n",
       "  'y',\n",
       "  'x',\n",
       "  '@version',\n",
       "  'Id',\n",
       "  'NRO_RADICADO'],\n",
       " ['2019-06-04T20:44:03.039Z',\n",
       "  '708',\n",
       "  'A1484623',\n",
       "  'Malla vial',\n",
       "  'CR  080   079 C  000 00000',\n",
       "  'Choque',\n",
       "  '[-75.5846584729, 6.28257144516]',\n",
       "  '2',\n",
       "  '2014',\n",
       "  'Robledo',\n",
       "  \"[u'incidentes']\",\n",
       "  'CR 80 CL 79 C',\n",
       "  'Operador2',\n",
       "  'C:/ELK/logstash-6.5.1/data/Medata/Incidentes/Incidentes_Georef_2014-2019.csv',\n",
       "  '07',\n",
       "  'Tramo de via',\n",
       "  'Altamira',\n",
       "  'Solo daños',\n",
       "  '2014-02-14T22:30:00.000Z',\n",
       "  '1186726.32',\n",
       "  '833206.79',\n",
       "  '1',\n",
       "  '5251',\n",
       "  '1429648']]"
      ]
     },
     "execution_count": 83,
     "metadata": {},
     "output_type": "execute_result"
    }
   ],
   "source": [
    "# Viewing the information\n",
    "apps_data = list(read_file)\n",
    "apps_data[:2]"
   ]
  },
  {
   "cell_type": "code",
   "execution_count": 84,
   "metadata": {
    "colab": {},
    "colab_type": "code",
    "id": "KsV9PzlLleOj"
   },
   "outputs": [],
   "source": [
    "# Function that generates frequency dictionary\n",
    "def freq_table(data_set, index):\n",
    "    frequency_table = {}\n",
    "    \n",
    "    for row in data_set[1:]:\n",
    "        value = row[index]\n",
    "        if value in frequency_table:\n",
    "            frequency_table[value] += 1\n",
    "        else:\n",
    "            frequency_table[value] = 1\n",
    "        \n",
    "    return frequency_table"
   ]
  },
  {
   "cell_type": "code",
   "execution_count": 85,
   "metadata": {
    "colab": {},
    "colab_type": "code",
    "id": "0ZHfByoymdrD"
   },
   "outputs": [
    {
     "data": {
      "text/plain": [
       "{'Choque': 37982,\n",
       " 'Atropello': 5511,\n",
       " 'Caída de Ocupante': 2007,\n",
       " 'Otro': 6281,\n",
       " 'Volcamiento': 1910,\n",
       " 'Incendio': 6,\n",
       " 'Caida Ocupante': 3212,\n",
       " 'Caída Ocupante': 4,\n",
       " 'Choque ': 1}"
      ]
     },
     "execution_count": 85,
     "metadata": {},
     "output_type": "execute_result"
    }
   ],
   "source": [
    "# Classes of accidents\n",
    "freq_table(apps_data,5)"
   ]
  },
  {
   "cell_type": "code",
   "execution_count": 86,
   "metadata": {
    "colab": {},
    "colab_type": "code",
    "id": "riq6kehPnE6W"
   },
   "outputs": [
    {
     "data": {
      "text/plain": [
       "{'Robledo': 3605,\n",
       " 'Castilla': 5226,\n",
       " 'Guayabal': 3906,\n",
       " 'Belén': 3548,\n",
       " 'Aranjuez': 2989,\n",
       " 'Popular': 736,\n",
       " 'La Candelaria': 10717,\n",
       " 'Corregimiento de San Antonio de Prado': 874,\n",
       " 'Buenos Aires': 2006,\n",
       " 'Laureles Estadio': 5782,\n",
       " '': 3541,\n",
       " 'Villa Hermosa': 1351,\n",
       " 'Doce de Octubre': 1482,\n",
       " 'Manrique': 1588,\n",
       " 'San Javier': 909,\n",
       " 'El Poblado': 4618,\n",
       " 'Corregimiento de San Cristóbal': 523,\n",
       " 'La América': 1731,\n",
       " 'Corregimiento de Santa Elena': 111,\n",
       " 'In': 16,\n",
       " 'Santa Cruz': 741,\n",
       " 'Corregimiento de Altavista': 112,\n",
       " 'No Georef': 799,\n",
       " 'Corregimiento de San Sebastián de Palmitas': 2,\n",
       " '0': 1}"
      ]
     },
     "execution_count": 86,
     "metadata": {},
     "output_type": "execute_result"
    }
   ],
   "source": [
    "# Accident location\n",
    "freq_table(apps_data,9)"
   ]
  },
  {
   "cell_type": "code",
   "execution_count": 87,
   "metadata": {
    "colab": {},
    "colab_type": "code",
    "id": "OfjEHkZknP2K"
   },
   "outputs": [
    {
     "data": {
      "text/plain": [
       "{'Solo daños': 25303, 'Con heridos': 31296, 'Con muertos': 315}"
      ]
     },
     "execution_count": 87,
     "metadata": {},
     "output_type": "execute_result"
    }
   ],
   "source": [
    "# Severity of accidents\n",
    "freq_table(apps_data,17)"
   ]
  }
 ],
 "metadata": {
  "colab": {
   "collapsed_sections": [],
   "name": "Fundamentos de Python Parte 2.ipynb",
   "provenance": [
    {
     "file_id": "1H2NGWpIwkRGty3SVtGekW1oQMuqp-a_X",
     "timestamp": 1591047859544
    }
   ]
  },
  "kernelspec": {
   "display_name": "Python 3",
   "language": "python",
   "name": "python3"
  },
  "language_info": {
   "codemirror_mode": {
    "name": "ipython",
    "version": 3
   },
   "file_extension": ".py",
   "mimetype": "text/x-python",
   "name": "python",
   "nbconvert_exporter": "python",
   "pygments_lexer": "ipython3",
   "version": "3.6.7"
  }
 },
 "nbformat": 4,
 "nbformat_minor": 1
}
